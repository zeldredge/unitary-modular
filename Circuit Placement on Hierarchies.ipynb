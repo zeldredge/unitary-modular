{
 "cells": [
  {
   "cell_type": "code",
   "execution_count": 1,
   "metadata": {
    "collapsed": true
   },
   "outputs": [],
   "source": [
    "from modular_entanglement import *\n",
    "import matplotlib.pyplot as plt\n",
    "import matplotlib.lines as mlines\n",
    "import time\n",
    "%matplotlib inline"
   ]
  },
  {
   "cell_type": "markdown",
   "metadata": {},
   "source": [
    "This notebook is intended to provide all the necessary code to duplicate the results in Section V of \"Unitary Entanglement Construction in Hierarchical Networks,\" Bapat et al 2018. All functions called are stored in a file called modular_entanglement.py, which should have been distributed with this notebook. Contact Zachary Eldredge at eldredge@umd.edu with questions.\n",
    "\n",
    "This code is intended to perform circuit placement on a large number of randomly generated circuits, placing them onto hierarchy graphs. The first section demonstrates how circuit placement is performed on a single graph, before moving on to more profiling-based work."
   ]
  },
  {
   "cell_type": "markdown",
   "metadata": {},
   "source": [
    "# Circuit Placement Demonstration"
   ]
  },
  {
   "cell_type": "markdown",
   "metadata": {},
   "source": [
    "Before the code that performs many trials to profile the average performance of our circuit placement, I'd like to demonstrate how the circuit placement function is used, so it can be understood without all the iteration. Here is how it works. First, we build a hierarchy graph (with all edges unity weight, i.e., $\\alpha = 1$). We'll build $K_3^{\\Pi 4}$. "
   ]
  },
  {
   "cell_type": "code",
   "execution_count": 2,
   "metadata": {
    "collapsed": false
   },
   "outputs": [],
   "source": [
    "hierarchy = build_weighted_hierarchical(nx.complete_graph(3), 4, lambda x: 1)"
   ]
  },
  {
   "cell_type": "markdown",
   "metadata": {},
   "source": [
    "Now, we need a circuit to place. We'll use the function $\\mathrm{get\\_random\\_comp\\_graph}$ to produce a computational graph that has random edges. We'll say it has 1000 gates placed on it (that ends up being the total edge weight, added one at a time between random nodes)."
   ]
  },
  {
   "cell_type": "code",
   "execution_count": 3,
   "metadata": {
    "collapsed": false
   },
   "outputs": [],
   "source": [
    "comp = get_random_comp_graph(3**4, 100)"
   ]
  },
  {
   "cell_type": "markdown",
   "metadata": {},
   "source": [
    "How bad is this circuit right now? We can first look at the \"default\" mapping where we just naively match nodes in comp to nodes in hierarchy. Then we evaluate the cost with $\\mathrm{length\\_cost}$, which needs the computational graph, the metric, and the mapping between them. That mapping needs to be a one-to-one dictionary in which the keys are node labels in the metric graph and the values are node labels in the computational graph (in this case, just integers)."
   ]
  },
  {
   "cell_type": "code",
   "execution_count": 4,
   "metadata": {
    "collapsed": false
   },
   "outputs": [
    {
     "name": "stdout",
     "output_type": "stream",
     "text": [
      "Initial cost = 452\n"
     ]
    }
   ],
   "source": [
    "#Blindly take the hierarchy nodes and set them to the computational graph\n",
    "#Note that it doesn't really matter how we do this since comp_graph is random\n",
    "naive_map = {j:i for i, j in enumerate(hierarchy.nodes())} \n",
    "\n",
    "#Now, we count the total length the gates in comp must traverse in this mapping\n",
    "init_cost = length_cost(comp, hierarchy, naive_map)\n",
    "print('Initial cost = {}'.format(init_cost))"
   ]
  },
  {
   "cell_type": "markdown",
   "metadata": {},
   "source": [
    "Now, we want to perform partition-and-rotate. This is accomplished by the function $\\mathrm{pr\\_split\\_nodes}$, which is a recursive function that first splits all the nodes into small clusters and then re-assembles those clusters (and clusters of clusters etc) in the correct order, \"rotating\" to ensure that the best node is always at the root of each hierarchy. It returns a list in which the $i$th element represents the $i$th sub-hierarchy, and so on, recursively."
   ]
  },
  {
   "cell_type": "code",
   "execution_count": 5,
   "metadata": {
    "collapsed": false
   },
   "outputs": [
    {
     "data": {
      "text/plain": [
       "[[[[13, 58, 39], [6, 3, 11], [31, 55, 42]],\n",
       "  [[0, 54, 75], [40, 60, 74], [64, 12, 27]],\n",
       "  [[22, 30, 65], [41, 62, 66], [21, 35, 68]]],\n",
       " [[[15, 72, 71], [52, 80, 10], [5, 7, 24]],\n",
       "  [[76, 37, 23], [63, 61, 20], [25, 50, 69]],\n",
       "  [[4, 34, 73], [36, 48, 45], [79, 28, 53]]],\n",
       " [[[19, 1, 46], [17, 47, 8], [57, 2, 38]],\n",
       "  [[9, 56, 26], [67, 49, 14], [59, 16, 44]],\n",
       "  [[18, 51, 78], [32, 70, 77], [33, 29, 43]]]]"
      ]
     },
     "execution_count": 5,
     "metadata": {},
     "output_type": "execute_result"
    }
   ],
   "source": [
    "pr_list = pr_split_nodes(comp, comp.nodes(), 3)\n",
    "pr_list"
   ]
  },
  {
   "cell_type": "markdown",
   "metadata": {},
   "source": [
    "I find this list very elegant but also totally impossible to work with further in the program sadly. Don't worry -- we have a function ($\\mathrm{convert\\_split\\_list\\_to\\_dict}$) that takes this list and turns it into a mapping dictionary you can actually work with. Now we'll use $\\mathrm{length\\_cost}$ again to see the circuit cost under this new mapping."
   ]
  },
  {
   "cell_type": "code",
   "execution_count": 6,
   "metadata": {
    "collapsed": false
   },
   "outputs": [
    {
     "name": "stdout",
     "output_type": "stream",
     "text": [
      "Final cost = 185\n",
      "This is a 59.07% reduction from the initial cost.\n"
     ]
    }
   ],
   "source": [
    "pr_dict = convert_split_list_to_dict(pr_list)\n",
    "final_cost = length_cost(comp, hierarchy, pr_dict)\n",
    "print('Final cost = {}'.format(final_cost))\n",
    "print('This is a {0:.2%} reduction from the initial cost.'.format(1 - final_cost/init_cost))"
   ]
  },
  {
   "cell_type": "markdown",
   "metadata": {},
   "source": [
    "# Profiling the Performance"
   ]
  },
  {
   "cell_type": "markdown",
   "metadata": {},
   "source": [
    "Now that you've seen it work once (and hopefully see how to use it yourself if you like) we will do it many times to demonstrate the algorithm's performance statistically. The following loop runs over $K_3^{\\Pi i}$ for several $i$ declared in $\\mathrm{levels\\_list}$. On each hierarchy it places random computational graphs of different numbers of gates, specified in $\\mathrm{ngates\\_list}$. For each of these pairs, it runs $\\mathrm{ntrials}$ iterations of:\n",
    "\n",
    "1) Create random computational graph\n",
    "\n",
    "2) Evaluate the initial cost using the \"naive\" mapping\n",
    "\n",
    "3) Perform parition-and-rotate\n",
    "\n",
    "4) Re-evaluate the cost with the optimized mapping\n",
    "\n",
    "We also time each iteration. All of these trials are stored in a Pandas dataframe. Note that the default parameters should run in less than five minutes."
   ]
  },
  {
   "cell_type": "markdown",
   "metadata": {},
   "source": [
    "## Test Parameters"
   ]
  },
  {
   "cell_type": "code",
   "execution_count": 7,
   "metadata": {
    "collapsed": true
   },
   "outputs": [],
   "source": [
    "levels_list = [2,3,4,5,6]\n",
    "ngate_list = [10,30,100,300,1000]\n",
    "ntrials = 10\n",
    "base_graph = nx.complete_graph(3)\n",
    "base_order = len(base_graph)"
   ]
  },
  {
   "cell_type": "markdown",
   "metadata": {},
   "source": [
    "## Test Loop"
   ]
  },
  {
   "cell_type": "code",
   "execution_count": 8,
   "metadata": {
    "collapsed": false
   },
   "outputs": [
    {
     "name": "stdout",
     "output_type": "stream",
     "text": [
      "CPU times: user 20.7 s, sys: 10.7 s, total: 31.4 s\n",
      "Wall time: 3min 41s\n"
     ]
    }
   ],
   "source": [
    "%%time\n",
    "nqubits_list = [base_order**i for i in levels_list] # A list of how many qubits are included in each test circuit\n",
    "\n",
    "#Build the empty dataframe and initiate a counter\n",
    "column_list = ['NQubits', 'NGates', 'P+R Time (s)', 'Initial Cost', 'Final Cost']\n",
    "full_df = pd.DataFrame([], columns= column_list)\n",
    "iterate_counter = 0\n",
    "\n",
    "for nqubits in nqubits_list: # Loop over qubit sizes\n",
    "    hierarchy = build_weighted_hierarchical(base_graph, ceil(log(nqubits,base_order)), lambda x: 1)\n",
    "    for ngates in ngate_list: # Loop over number of gates\n",
    "        for trial in range(ntrials): # Loop over every trial\n",
    "            c = get_random_comp_graph(nqubits, ngates) # Get a random computational graph\n",
    "            \n",
    "            init_cost = length_cost(c, hierarchy, {j:i for i,j in enumerate(hierarchy.nodes())}) # Calculate \"naive\" cost\n",
    "            \n",
    "            start = time.time() # Start timing \n",
    "            pr_split_list = pr_split_nodes(c, c.nodes(), base_order) # Run partition-and-rotate\n",
    "            pr_dict = convert_split_list_to_dict(pr_split_list) # Conver to a mapping\n",
    "            end = time.time()\n",
    "            \n",
    "            pr_cost = length_cost(c, hierarchy, pr_dict) # Get cost under new mapping\n",
    "            pr_time = end - start # Calculate how long that took\n",
    "            \n",
    "            trial_df = pd.DataFrame([[nqubits, ngates, pr_time, init_cost, \n",
    "                                      pr_cost]],\n",
    "                               columns=column_list, \n",
    "                                    index = [iterate_counter]) # Create a dataframe for this trial\n",
    "            iterate_counter += 1 # Iterate the counter\n",
    "            full_df = full_df.append(trial_df) # Add this trial to the running data frame\n",
    "\n",
    "            \n",
    "# All trials are done -- some post-processing\n",
    "full_df['Initial Cost'] = full_df['Initial Cost'].astype(int) # Case some stuff to floats\n",
    "full_df['Final Cost'] = full_df['Final Cost'].astype(int)\n",
    "full_df['Ratio'] = full_df['Final Cost']/full_df['Initial Cost'] # Compute the ratio that describes the improvement"
   ]
  },
  {
   "cell_type": "markdown",
   "metadata": {},
   "source": [
    "At this point, the DataFrame $\\mathrm{full\\_df}$ contains the individual statistics for every single separate \"experiment.\" This isn't that useful, so we use $\\mathrm{pandas.groupby().mean()}$ and $\\mathrm{pandas.groupby().std()}$ to find the mean and standard deviation of the trials, grouped by the number of qubits and the number of gates. The standard deviations in $\\mathrm{std_df}$ are used for plotting later."
   ]
  },
  {
   "cell_type": "code",
   "execution_count": 9,
   "metadata": {
    "collapsed": false
   },
   "outputs": [
    {
     "data": {
      "text/html": [
       "<div>\n",
       "<style>\n",
       "    .dataframe thead tr:only-child th {\n",
       "        text-align: right;\n",
       "    }\n",
       "\n",
       "    .dataframe thead th {\n",
       "        text-align: left;\n",
       "    }\n",
       "\n",
       "    .dataframe tbody tr th {\n",
       "        vertical-align: top;\n",
       "    }\n",
       "</style>\n",
       "<table border=\"1\" class=\"dataframe\">\n",
       "  <thead>\n",
       "    <tr style=\"text-align: right;\">\n",
       "      <th></th>\n",
       "      <th></th>\n",
       "      <th>P+R Time (s)</th>\n",
       "      <th>Initial Cost</th>\n",
       "      <th>Final Cost</th>\n",
       "      <th>Ratio</th>\n",
       "    </tr>\n",
       "    <tr>\n",
       "      <th>NQubits</th>\n",
       "      <th>NGates</th>\n",
       "      <th></th>\n",
       "      <th></th>\n",
       "      <th></th>\n",
       "      <th></th>\n",
       "    </tr>\n",
       "  </thead>\n",
       "  <tbody>\n",
       "    <tr>\n",
       "      <th rowspan=\"5\" valign=\"top\">9</th>\n",
       "      <th>10</th>\n",
       "      <td>0.024165</td>\n",
       "      <td>21.6</td>\n",
       "      <td>12.3</td>\n",
       "      <td>0.572841</td>\n",
       "    </tr>\n",
       "    <tr>\n",
       "      <th>30</th>\n",
       "      <td>0.028247</td>\n",
       "      <td>59.0</td>\n",
       "      <td>46.9</td>\n",
       "      <td>0.797800</td>\n",
       "    </tr>\n",
       "    <tr>\n",
       "      <th>100</th>\n",
       "      <td>0.032022</td>\n",
       "      <td>201.1</td>\n",
       "      <td>177.1</td>\n",
       "      <td>0.882513</td>\n",
       "    </tr>\n",
       "    <tr>\n",
       "      <th>300</th>\n",
       "      <td>0.024135</td>\n",
       "      <td>603.3</td>\n",
       "      <td>561.5</td>\n",
       "      <td>0.931344</td>\n",
       "    </tr>\n",
       "    <tr>\n",
       "      <th>1000</th>\n",
       "      <td>0.031207</td>\n",
       "      <td>2005.8</td>\n",
       "      <td>1922.0</td>\n",
       "      <td>0.958484</td>\n",
       "    </tr>\n",
       "    <tr>\n",
       "      <th rowspan=\"5\" valign=\"top\">27</th>\n",
       "      <th>10</th>\n",
       "      <td>0.120363</td>\n",
       "      <td>32.3</td>\n",
       "      <td>10.5</td>\n",
       "      <td>0.327712</td>\n",
       "    </tr>\n",
       "    <tr>\n",
       "      <th>30</th>\n",
       "      <td>0.174677</td>\n",
       "      <td>96.3</td>\n",
       "      <td>45.9</td>\n",
       "      <td>0.479005</td>\n",
       "    </tr>\n",
       "    <tr>\n",
       "      <th>100</th>\n",
       "      <td>0.145651</td>\n",
       "      <td>313.3</td>\n",
       "      <td>225.6</td>\n",
       "      <td>0.721095</td>\n",
       "    </tr>\n",
       "    <tr>\n",
       "      <th>300</th>\n",
       "      <td>0.108569</td>\n",
       "      <td>947.9</td>\n",
       "      <td>792.9</td>\n",
       "      <td>0.836693</td>\n",
       "    </tr>\n",
       "    <tr>\n",
       "      <th>1000</th>\n",
       "      <td>0.122362</td>\n",
       "      <td>3162.4</td>\n",
       "      <td>2884.4</td>\n",
       "      <td>0.912125</td>\n",
       "    </tr>\n",
       "    <tr>\n",
       "      <th rowspan=\"5\" valign=\"top\">81</th>\n",
       "      <th>10</th>\n",
       "      <td>0.253471</td>\n",
       "      <td>45.7</td>\n",
       "      <td>10.1</td>\n",
       "      <td>0.223342</td>\n",
       "    </tr>\n",
       "    <tr>\n",
       "      <th>30</th>\n",
       "      <td>0.298580</td>\n",
       "      <td>134.5</td>\n",
       "      <td>31.9</td>\n",
       "      <td>0.238096</td>\n",
       "    </tr>\n",
       "    <tr>\n",
       "      <th>100</th>\n",
       "      <td>0.332726</td>\n",
       "      <td>446.0</td>\n",
       "      <td>186.4</td>\n",
       "      <td>0.418415</td>\n",
       "    </tr>\n",
       "    <tr>\n",
       "      <th>300</th>\n",
       "      <td>0.354871</td>\n",
       "      <td>1322.9</td>\n",
       "      <td>905.2</td>\n",
       "      <td>0.684714</td>\n",
       "    </tr>\n",
       "    <tr>\n",
       "      <th>1000</th>\n",
       "      <td>0.360340</td>\n",
       "      <td>4399.0</td>\n",
       "      <td>3698.9</td>\n",
       "      <td>0.840915</td>\n",
       "    </tr>\n",
       "    <tr>\n",
       "      <th rowspan=\"5\" valign=\"top\">243</th>\n",
       "      <th>10</th>\n",
       "      <td>0.556579</td>\n",
       "      <td>57.9</td>\n",
       "      <td>10.0</td>\n",
       "      <td>0.173567</td>\n",
       "    </tr>\n",
       "    <tr>\n",
       "      <th>30</th>\n",
       "      <td>0.786666</td>\n",
       "      <td>171.4</td>\n",
       "      <td>30.1</td>\n",
       "      <td>0.176626</td>\n",
       "    </tr>\n",
       "    <tr>\n",
       "      <th>100</th>\n",
       "      <td>1.647052</td>\n",
       "      <td>568.0</td>\n",
       "      <td>108.2</td>\n",
       "      <td>0.190550</td>\n",
       "    </tr>\n",
       "    <tr>\n",
       "      <th>300</th>\n",
       "      <td>1.163805</td>\n",
       "      <td>1701.1</td>\n",
       "      <td>650.2</td>\n",
       "      <td>0.382199</td>\n",
       "    </tr>\n",
       "    <tr>\n",
       "      <th>1000</th>\n",
       "      <td>1.323155</td>\n",
       "      <td>5698.4</td>\n",
       "      <td>3960.0</td>\n",
       "      <td>0.694974</td>\n",
       "    </tr>\n",
       "    <tr>\n",
       "      <th rowspan=\"5\" valign=\"top\">729</th>\n",
       "      <th>10</th>\n",
       "      <td>0.814927</td>\n",
       "      <td>71.0</td>\n",
       "      <td>10.0</td>\n",
       "      <td>0.141939</td>\n",
       "    </tr>\n",
       "    <tr>\n",
       "      <th>30</th>\n",
       "      <td>1.699020</td>\n",
       "      <td>208.1</td>\n",
       "      <td>30.0</td>\n",
       "      <td>0.144674</td>\n",
       "    </tr>\n",
       "    <tr>\n",
       "      <th>100</th>\n",
       "      <td>3.548594</td>\n",
       "      <td>703.6</td>\n",
       "      <td>100.3</td>\n",
       "      <td>0.142636</td>\n",
       "    </tr>\n",
       "    <tr>\n",
       "      <th>300</th>\n",
       "      <td>3.916739</td>\n",
       "      <td>2094.1</td>\n",
       "      <td>326.8</td>\n",
       "      <td>0.156104</td>\n",
       "    </tr>\n",
       "    <tr>\n",
       "      <th>1000</th>\n",
       "      <td>3.628111</td>\n",
       "      <td>7005.2</td>\n",
       "      <td>2715.6</td>\n",
       "      <td>0.387670</td>\n",
       "    </tr>\n",
       "  </tbody>\n",
       "</table>\n",
       "</div>"
      ],
      "text/plain": [
       "                P+R Time (s)  Initial Cost  Final Cost     Ratio\n",
       "NQubits NGates                                                  \n",
       "9       10          0.024165          21.6        12.3  0.572841\n",
       "        30          0.028247          59.0        46.9  0.797800\n",
       "        100         0.032022         201.1       177.1  0.882513\n",
       "        300         0.024135         603.3       561.5  0.931344\n",
       "        1000        0.031207        2005.8      1922.0  0.958484\n",
       "27      10          0.120363          32.3        10.5  0.327712\n",
       "        30          0.174677          96.3        45.9  0.479005\n",
       "        100         0.145651         313.3       225.6  0.721095\n",
       "        300         0.108569         947.9       792.9  0.836693\n",
       "        1000        0.122362        3162.4      2884.4  0.912125\n",
       "81      10          0.253471          45.7        10.1  0.223342\n",
       "        30          0.298580         134.5        31.9  0.238096\n",
       "        100         0.332726         446.0       186.4  0.418415\n",
       "        300         0.354871        1322.9       905.2  0.684714\n",
       "        1000        0.360340        4399.0      3698.9  0.840915\n",
       "243     10          0.556579          57.9        10.0  0.173567\n",
       "        30          0.786666         171.4        30.1  0.176626\n",
       "        100         1.647052         568.0       108.2  0.190550\n",
       "        300         1.163805        1701.1       650.2  0.382199\n",
       "        1000        1.323155        5698.4      3960.0  0.694974\n",
       "729     10          0.814927          71.0        10.0  0.141939\n",
       "        30          1.699020         208.1        30.0  0.144674\n",
       "        100         3.548594         703.6       100.3  0.142636\n",
       "        300         3.916739        2094.1       326.8  0.156104\n",
       "        1000        3.628111        7005.2      2715.6  0.387670"
      ]
     },
     "execution_count": 9,
     "metadata": {},
     "output_type": "execute_result"
    }
   ],
   "source": [
    "mean_df = full_df.groupby(['NQubits','NGates']).mean() # New dataframe with average values\n",
    "std_df = full_df.groupby(['NQubits','NGates']).std() # New dataframe with standard deviations\n",
    "mean_df # Just to print the averages"
   ]
  },
  {
   "cell_type": "markdown",
   "metadata": {},
   "source": [
    "## Visualization"
   ]
  },
  {
   "cell_type": "markdown",
   "metadata": {},
   "source": [
    "Now we're just going to make some plots that compare the different performances. The first shows the performance, in terms of the ratio of initial to final costs, and how that scales as gates are added."
   ]
  },
  {
   "cell_type": "code",
   "execution_count": 10,
   "metadata": {
    "collapsed": false
   },
   "outputs": [
    {
     "data": {
      "text/plain": [
       "<matplotlib.legend.Legend at 0x1172d2588>"
      ]
     },
     "execution_count": 10,
     "metadata": {},
     "output_type": "execute_result"
    },
    {
     "data": {
      "image/png": "[encoded data removed]",
      "text/plain": [
       "<matplotlib.figure.Figure at 0x113c9ee10>"
      ]
     },
     "metadata": {},
     "output_type": "display_data"
    }
   ],
   "source": [
    "for i in nqubits_list:\n",
    "    mean_df.loc[i]['Ratio'].plot(yerr = std_df.loc[i]['Ratio'],\n",
    "        marker='o', ax=plt.gca(), legend = False, logx = True, logy = False, label = str(i) + ' qubits')\n",
    "plt.ylim(0,1)\n",
    "plt.xlabel('Number of gates')\n",
    "plt.ylabel('Fraction of original cost')\n",
    "plt.legend([\"{} qubits\".format(i) for i in nqubits_list])"
   ]
  },
  {
   "cell_type": "markdown",
   "metadata": {},
   "source": [
    "This next plot shows the runtime of the program for various numbers of gates as we increase the size of the circuit."
   ]
  },
  {
   "cell_type": "code",
   "execution_count": 11,
   "metadata": {
    "collapsed": false
   },
   "outputs": [
    {
     "data": {
      "text/plain": [
       "<matplotlib.legend.Legend at 0x117e15748>"
      ]
     },
     "execution_count": 11,
     "metadata": {},
     "output_type": "execute_result"
    },
    {
     "data": {
      "image/png": "[encoded data removed]",
      "text/plain": [
       "<matplotlib.figure.Figure at 0x117e159e8>"
      ]
     },
     "metadata": {},
     "output_type": "display_data"
    }
   ],
   "source": [
    "for i in ngate_list:\n",
    "    plt.loglog(nqubits_list,mean_df.xs(i,level='NGates')['P+R Time (s)'], marker = 'o', label = str(i) + ' gates')\n",
    "plt.ylabel('Run time of program (s)')\n",
    "plt.xlabel('Number of qubits')\n",
    "plt.legend()"
   ]
  },
  {
   "cell_type": "markdown",
   "metadata": {},
   "source": [
    "Finally, program runtime where we look at lines of constant numbers of qubits as the number of gates scales."
   ]
  },
  {
   "cell_type": "code",
   "execution_count": 12,
   "metadata": {
    "collapsed": false
   },
   "outputs": [
    {
     "data": {
      "text/plain": [
       "<matplotlib.legend.Legend at 0x1180bd9b0>"
      ]
     },
     "execution_count": 12,
     "metadata": {},
     "output_type": "execute_result"
    },
    {
     "data": {
      "image/png": "[encoded data removed]",
      "text/plain": [
       "<matplotlib.figure.Figure at 0x1180c9ba8>"
      ]
     },
     "metadata": {},
     "output_type": "display_data"
    }
   ],
   "source": [
    "for i in nqubits_list:\n",
    "    plt.loglog(ngate_list,mean_df.xs(i,level='NQubits')['P+R Time (s)'], marker = 'o', label = str(i) + ' qubits')\n",
    "plt.ylabel('Run time of program (s)')\n",
    "plt.xlabel('Number of gates')\n",
    "plt.legend(loc = 2)"
   ]
  }
 ],
 "metadata": {
  "kernelspec": {
   "display_name": "Python 3",
   "language": "python",
   "name": "python3"
  },
  "language_info": {
   "codemirror_mode": {
    "name": "ipython",
    "version": 3
   },
   "file_extension": ".py",
   "mimetype": "text/x-python",
   "name": "python",
   "nbconvert_exporter": "python",
   "pygments_lexer": "ipython3",
   "version": "3.6.4"
  }
 },
 "nbformat": 4,
 "nbformat_minor": 2
}
