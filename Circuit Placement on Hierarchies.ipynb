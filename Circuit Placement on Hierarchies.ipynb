{
 "cells": [
  {
   "cell_type": "code",
   "execution_count": 1,
   "metadata": {
    "collapsed": true
   },
   "outputs": [],
   "source": [
    "from modular_entanglement import *\n",
    "import matplotlib.pyplot as plt\n",
    "import matplotlib.lines as mlines\n",
    "import time\n",
    "%matplotlib inline"
   ]
  },
  {
   "cell_type": "markdown",
   "metadata": {},
   "source": [
    "This notebook is intended to provide all the necessary code to duplicate the results in Section V of \"Unitary Entanglement Construction in Hierarchical Networks,\" Bapat et al 2018. All functions called are stored in a file called modular_entanglement.py, which should have been distributed with this notebook. Contact Zachary Eldredge at eldredge@umd.edu with questions.\n",
    "\n",
    "This code is intended to perform circuit placement on a large number of randomly generated circuits, placing them onto hierarchy graphs. The first section demonstrates how circuit placement is performed on a single graph, before moving on to more profiling-based work."
   ]
  },
  {
   "cell_type": "markdown",
   "metadata": {},
   "source": [
    "# Circuit Placement Demonstration"
   ]
  },
  {
   "cell_type": "markdown",
   "metadata": {},
   "source": [
    "Before the code that performs many trials to profile the average performance of our circuit placement, I'd like to demonstrate how the circuit placement function is used, so it can be understood without all the iteration. Here is how it works. First, we build a hierarchy graph (with all edges unity weight, i.e., $\\alpha = 1$). We'll build $K_3^{\\Pi 4}$. "
   ]
  },
  {
   "cell_type": "code",
   "execution_count": 2,
   "metadata": {
    "collapsed": false
   },
   "outputs": [],
   "source": [
    "hierarchy = build_weighted_hierarchical(nx.complete_graph(3), 4, lambda x: 1)"
   ]
  },
  {
   "cell_type": "markdown",
   "metadata": {},
   "source": [
    "Now, we need a circuit to place. We'll use the function $\\mathrm{get\\_random\\_comp\\_graph}$ to produce a computational graph that has random edges. We'll say it has 1000 gates placed on it (that ends up being the total edge weight, added one at a time between random nodes)."
   ]
  },
  {
   "cell_type": "code",
   "execution_count": 3,
   "metadata": {
    "collapsed": false
   },
   "outputs": [],
   "source": [
    "comp = get_random_comp_graph(3**4, 100)"
   ]
  },
  {
   "cell_type": "markdown",
   "metadata": {},
   "source": [
    "How bad is this circuit right now? We can first look at the \"default\" mapping where we just naively match nodes in comp to nodes in hierarchy. Then we evaluate the cost with $\\mathrm{length\\_cost}$, which needs the computational graph, the metric, and the mapping between them. That mapping needs to be a one-to-one dictionary in which the keys are node labels in the metric graph and the values are node labels in the computational graph (in this case, just integers)."
   ]
  },
  {
   "cell_type": "code",
   "execution_count": 4,
   "metadata": {
    "collapsed": false
   },
   "outputs": [
    {
     "name": "stdout",
     "output_type": "stream",
     "text": [
      "Initial cost = 430\n"
     ]
    }
   ],
   "source": [
    "#Blindly take the hierarchy nodes and set them to the computational graph\n",
    "#Note that it doesn't really matter how we do this since comp_graph is random\n",
    "naive_map = {j:i for i, j in enumerate(hierarchy.nodes())} \n",
    "\n",
    "#Now, we count the total length the gates in comp must traverse in this mapping\n",
    "init_cost = length_cost(comp, hierarchy, naive_map)\n",
    "print('Initial cost = {}'.format(init_cost))"
   ]
  },
  {
   "cell_type": "markdown",
   "metadata": {},
   "source": [
    "Now, we want to perform partition-and-rotate. This is accomplished by the function $\\mathrm{pr\\_split\\_nodes}$, which is a recursive function that first splits all the nodes into small clusters and then re-assembles those clusters (and clusters of clusters etc) in the correct order, \"rotating\" to ensure that the best node is always at the root of each hierarchy. It returns a list in which the $i$th element represents the $i$th sub-hierarchy, and so on, recursively."
   ]
  },
  {
   "cell_type": "code",
   "execution_count": 5,
   "metadata": {
    "collapsed": false
   },
   "outputs": [
    {
     "data": {
      "text/plain": [
       "[[[[73, 56, 79], [23, 3, 63], [70, 0, 30]],\n",
       "  [[10, 9, 20], [17, 36, 57], [24, 60, 40]],\n",
       "  [[49, 11, 26], [29, 38, 16], [39, 21, 31]]],\n",
       " [[[15, 33, 2], [7, 47, 14], [5, 80, 76]],\n",
       "  [[62, 52, 46], [4, 27, 44], [41, 48, 51]],\n",
       "  [[25, 6, 64], [19, 50, 34], [66, 61, 69]]],\n",
       " [[[58, 74, 32], [43, 54, 35], [1, 53, 71]],\n",
       "  [[22, 45, 68], [13, 59, 75], [65, 12, 67]],\n",
       "  [[37, 77, 42], [28, 72, 78], [18, 55, 8]]]]"
      ]
     },
     "execution_count": 5,
     "metadata": {},
     "output_type": "execute_result"
    }
   ],
   "source": [
    "pr_list = pr_split_nodes(comp, comp.nodes(), 3)\n",
    "pr_list"
   ]
  },
  {
   "cell_type": "markdown",
   "metadata": {},
   "source": [
    "I find this list very elegant but also totally impossible to work with further in the program sadly. Don't worry -- we have a function ($\\mathrm{convert\\_split\\_list\\_to\\_dict}$) that takes this list and turns it into a mapping dictionary you can actually work with. Now we'll use $\\mathrm{length\\_cost}$ again to see the circuit cost under this new mapping."
   ]
  },
  {
   "cell_type": "code",
   "execution_count": 6,
   "metadata": {
    "collapsed": false
   },
   "outputs": [
    {
     "name": "stdout",
     "output_type": "stream",
     "text": [
      "Final cost = 183\n",
      "This is a 57.44% reduction from the initial cost.\n"
     ]
    }
   ],
   "source": [
    "pr_dict = convert_split_list_to_dict(pr_list)\n",
    "final_cost = length_cost(comp, hierarchy, pr_dict)\n",
    "print('Final cost = {}'.format(final_cost))\n",
    "print('This is a {0:.2%} reduction from the initial cost.'.format(1 - final_cost/init_cost))"
   ]
  },
  {
   "cell_type": "markdown",
   "metadata": {},
   "source": [
    "# Profiling the Performance"
   ]
  },
  {
   "cell_type": "markdown",
   "metadata": {},
   "source": [
    "Now that you've seen it work once (and hopefully see how to use it yourself if you like) we will do it many times to demonstrate the algorithm's performance statistically. The following loop runs over $K_3^{\\Pi i}$ for several $i$ declared in $\\mathrm{levels\\_list}$. On each hierarchy it places random computational graphs of different numbers of gates, specified in $\\mathrm{ngates\\_list}$. For each of these pairs, it runs $\\mathrm{ntrials}$ iterations of:\n",
    "\n",
    "1) Create random computational graph\n",
    "\n",
    "2) Evaluate the initial cost using the \"naive\" mapping\n",
    "\n",
    "3) Perform parition-and-rotate\n",
    "\n",
    "4) Re-evaluate the cost with the optimized mapping\n",
    "\n",
    "We also time each iteration. All of these trials are stored in a Pandas dataframe. Note that the default parameters should run in less than five minutes."
   ]
  },
  {
   "cell_type": "markdown",
   "metadata": {},
   "source": [
    "## Test Parameters"
   ]
  },
  {
   "cell_type": "code",
   "execution_count": 7,
   "metadata": {
    "collapsed": true
   },
   "outputs": [],
   "source": [
    "levels_list = [2,3,4,5,6]\n",
    "ngate_list = [10,30,100,300,1000]\n",
    "ntrials = 10\n",
    "base_graph = nx.complete_graph(3)\n",
    "base_order = len(base_graph)"
   ]
  },
  {
   "cell_type": "markdown",
   "metadata": {},
   "source": [
    "## Test Loop"
   ]
  },
  {
   "cell_type": "code",
   "execution_count": 8,
   "metadata": {
    "collapsed": false
   },
   "outputs": [
    {
     "name": "stdout",
     "output_type": "stream",
     "text": [
      "CPU times: user 19.8 s, sys: 9.95 s, total: 29.8 s\n",
      "Wall time: 3min 16s\n"
     ]
    }
   ],
   "source": [
    "%%time\n",
    "nqubits_list = [base_order**i for i in levels_list] # A list of how many qubits are included in each test circuit\n",
    "\n",
    "#Build the empty dataframe and initiate a counter\n",
    "column_list = ['NQubits', 'NGates', 'P+R Time (s)', 'Initial Cost', 'Final Cost']\n",
    "full_df = pd.DataFrame([], columns= column_list)\n",
    "iterate_counter = 0\n",
    "\n",
    "for nqubits in nqubits_list: # Loop over qubit sizes\n",
    "    hierarchy = build_weighted_hierarchical(base_graph, ceil(log(nqubits,base_order)), lambda x: 1)\n",
    "    for ngates in ngate_list: # Loop over number of gates\n",
    "        for trial in range(ntrials): # Loop over every trial\n",
    "            c = get_random_comp_graph(nqubits, ngates) # Get a random computational graph\n",
    "            \n",
    "            init_cost = length_cost(c, hierarchy, {j:i for i,j in enumerate(hierarchy.nodes())}) # Calculate \"naive\" cost\n",
    "            \n",
    "            start = time.time() # Start timing \n",
    "            pr_split_list = pr_split_nodes(c, c.nodes(), base_order) # Run partition-and-rotate\n",
    "            pr_dict = convert_split_list_to_dict(pr_split_list) # Conver to a mapping\n",
    "            end = time.time()\n",
    "            \n",
    "            pr_cost = length_cost(c, hierarchy, pr_dict) # Get cost under new mapping\n",
    "            pr_time = end - start # Calculate how long that took\n",
    "            \n",
    "            trial_df = pd.DataFrame([[nqubits, ngates, pr_time, init_cost, \n",
    "                                      pr_cost]],\n",
    "                               columns=column_list, \n",
    "                                    index = [iterate_counter]) # Create a dataframe for this trial\n",
    "            iterate_counter += 1 # Iterate the counter\n",
    "            full_df = full_df.append(trial_df) # Add this trial to the running data frame\n",
    "\n",
    "            \n",
    "# All trials are done -- some post-processing\n",
    "full_df['Initial Cost'] = full_df['Initial Cost'].astype(int) # Case some stuff to floats\n",
    "full_df['Final Cost'] = full_df['Final Cost'].astype(int)\n",
    "full_df['Ratio'] = full_df['Final Cost']/full_df['Initial Cost'] # Compute the ratio that describes the improvement"
   ]
  },
  {
   "cell_type": "markdown",
   "metadata": {},
   "source": [
    "At this point, the DataFrame $\\mathrm{full\\_df}$ contains the individual statistics for every single separate \"experiment.\" This isn't that useful, so we use $\\mathrm{pandas.groupby().mean()}$ and $\\mathrm{pandas.groupby().std()}$ to find the mean and standard deviation of the trials, grouped by the number of qubits and the number of gates. The standard deviations in $\\mathrm{std_df}$ are used for plotting later."
   ]
  },
  {
   "cell_type": "code",
   "execution_count": 9,
   "metadata": {
    "collapsed": false
   },
   "outputs": [
    {
     "data": {
      "text/html": [
       "<div>\n",
       "<style>\n",
       "    .dataframe thead tr:only-child th {\n",
       "        text-align: right;\n",
       "    }\n",
       "\n",
       "    .dataframe thead th {\n",
       "        text-align: left;\n",
       "    }\n",
       "\n",
       "    .dataframe tbody tr th {\n",
       "        vertical-align: top;\n",
       "    }\n",
       "</style>\n",
       "<table border=\"1\" class=\"dataframe\">\n",
       "  <thead>\n",
       "    <tr style=\"text-align: right;\">\n",
       "      <th></th>\n",
       "      <th></th>\n",
       "      <th>P+R Time (s)</th>\n",
       "      <th>Initial Cost</th>\n",
       "      <th>Final Cost</th>\n",
       "      <th>Ratio</th>\n",
       "    </tr>\n",
       "    <tr>\n",
       "      <th>NQubits</th>\n",
       "      <th>NGates</th>\n",
       "      <th></th>\n",
       "      <th></th>\n",
       "      <th></th>\n",
       "      <th></th>\n",
       "    </tr>\n",
       "  </thead>\n",
       "  <tbody>\n",
       "    <tr>\n",
       "      <th rowspan=\"5\" valign=\"top\">9</th>\n",
       "      <th>10</th>\n",
       "      <td>0.036085</td>\n",
       "      <td>19.0</td>\n",
       "      <td>12.3</td>\n",
       "      <td>0.652525</td>\n",
       "    </tr>\n",
       "    <tr>\n",
       "      <th>30</th>\n",
       "      <td>0.030568</td>\n",
       "      <td>61.0</td>\n",
       "      <td>47.5</td>\n",
       "      <td>0.779889</td>\n",
       "    </tr>\n",
       "    <tr>\n",
       "      <th>100</th>\n",
       "      <td>0.041902</td>\n",
       "      <td>200.4</td>\n",
       "      <td>174.2</td>\n",
       "      <td>0.871286</td>\n",
       "    </tr>\n",
       "    <tr>\n",
       "      <th>300</th>\n",
       "      <td>0.034056</td>\n",
       "      <td>596.8</td>\n",
       "      <td>556.6</td>\n",
       "      <td>0.932822</td>\n",
       "    </tr>\n",
       "    <tr>\n",
       "      <th>1000</th>\n",
       "      <td>0.027569</td>\n",
       "      <td>1997.3</td>\n",
       "      <td>1924.7</td>\n",
       "      <td>0.963897</td>\n",
       "    </tr>\n",
       "    <tr>\n",
       "      <th rowspan=\"5\" valign=\"top\">27</th>\n",
       "      <th>10</th>\n",
       "      <td>0.100206</td>\n",
       "      <td>32.5</td>\n",
       "      <td>10.4</td>\n",
       "      <td>0.322724</td>\n",
       "    </tr>\n",
       "    <tr>\n",
       "      <th>30</th>\n",
       "      <td>0.117472</td>\n",
       "      <td>95.4</td>\n",
       "      <td>45.1</td>\n",
       "      <td>0.476408</td>\n",
       "    </tr>\n",
       "    <tr>\n",
       "      <th>100</th>\n",
       "      <td>0.127163</td>\n",
       "      <td>313.6</td>\n",
       "      <td>224.2</td>\n",
       "      <td>0.715870</td>\n",
       "    </tr>\n",
       "    <tr>\n",
       "      <th>300</th>\n",
       "      <td>0.115269</td>\n",
       "      <td>935.1</td>\n",
       "      <td>803.4</td>\n",
       "      <td>0.859693</td>\n",
       "    </tr>\n",
       "    <tr>\n",
       "      <th>1000</th>\n",
       "      <td>0.113754</td>\n",
       "      <td>3133.5</td>\n",
       "      <td>2901.1</td>\n",
       "      <td>0.925929</td>\n",
       "    </tr>\n",
       "    <tr>\n",
       "      <th rowspan=\"5\" valign=\"top\">81</th>\n",
       "      <th>10</th>\n",
       "      <td>0.291510</td>\n",
       "      <td>44.6</td>\n",
       "      <td>10.0</td>\n",
       "      <td>0.226340</td>\n",
       "    </tr>\n",
       "    <tr>\n",
       "      <th>30</th>\n",
       "      <td>0.445824</td>\n",
       "      <td>137.3</td>\n",
       "      <td>32.2</td>\n",
       "      <td>0.235613</td>\n",
       "    </tr>\n",
       "    <tr>\n",
       "      <th>100</th>\n",
       "      <td>0.324857</td>\n",
       "      <td>441.7</td>\n",
       "      <td>183.8</td>\n",
       "      <td>0.417075</td>\n",
       "    </tr>\n",
       "    <tr>\n",
       "      <th>300</th>\n",
       "      <td>0.429134</td>\n",
       "      <td>1326.7</td>\n",
       "      <td>909.6</td>\n",
       "      <td>0.685805</td>\n",
       "    </tr>\n",
       "    <tr>\n",
       "      <th>1000</th>\n",
       "      <td>0.418155</td>\n",
       "      <td>4420.9</td>\n",
       "      <td>3697.9</td>\n",
       "      <td>0.836572</td>\n",
       "    </tr>\n",
       "    <tr>\n",
       "      <th rowspan=\"5\" valign=\"top\">243</th>\n",
       "      <th>10</th>\n",
       "      <td>0.521880</td>\n",
       "      <td>56.8</td>\n",
       "      <td>10.0</td>\n",
       "      <td>0.176990</td>\n",
       "    </tr>\n",
       "    <tr>\n",
       "      <th>30</th>\n",
       "      <td>0.888472</td>\n",
       "      <td>173.5</td>\n",
       "      <td>30.0</td>\n",
       "      <td>0.173350</td>\n",
       "    </tr>\n",
       "    <tr>\n",
       "      <th>100</th>\n",
       "      <td>1.094221</td>\n",
       "      <td>570.9</td>\n",
       "      <td>108.5</td>\n",
       "      <td>0.190250</td>\n",
       "    </tr>\n",
       "    <tr>\n",
       "      <th>300</th>\n",
       "      <td>1.135477</td>\n",
       "      <td>1707.0</td>\n",
       "      <td>647.6</td>\n",
       "      <td>0.379445</td>\n",
       "    </tr>\n",
       "    <tr>\n",
       "      <th>1000</th>\n",
       "      <td>1.316917</td>\n",
       "      <td>5689.3</td>\n",
       "      <td>3924.5</td>\n",
       "      <td>0.689917</td>\n",
       "    </tr>\n",
       "    <tr>\n",
       "      <th rowspan=\"5\" valign=\"top\">729</th>\n",
       "      <th>10</th>\n",
       "      <td>0.996298</td>\n",
       "      <td>72.7</td>\n",
       "      <td>10.0</td>\n",
       "      <td>0.138113</td>\n",
       "    </tr>\n",
       "    <tr>\n",
       "      <th>30</th>\n",
       "      <td>1.598102</td>\n",
       "      <td>208.8</td>\n",
       "      <td>30.0</td>\n",
       "      <td>0.143990</td>\n",
       "    </tr>\n",
       "    <tr>\n",
       "      <th>100</th>\n",
       "      <td>2.424564</td>\n",
       "      <td>698.9</td>\n",
       "      <td>100.8</td>\n",
       "      <td>0.144303</td>\n",
       "    </tr>\n",
       "    <tr>\n",
       "      <th>300</th>\n",
       "      <td>2.981897</td>\n",
       "      <td>2110.2</td>\n",
       "      <td>326.1</td>\n",
       "      <td>0.154552</td>\n",
       "    </tr>\n",
       "    <tr>\n",
       "      <th>1000</th>\n",
       "      <td>3.393890</td>\n",
       "      <td>7024.4</td>\n",
       "      <td>2708.0</td>\n",
       "      <td>0.385558</td>\n",
       "    </tr>\n",
       "  </tbody>\n",
       "</table>\n",
       "</div>"
      ],
      "text/plain": [
       "                P+R Time (s)  Initial Cost  Final Cost     Ratio\n",
       "NQubits NGates                                                  \n",
       "9       10          0.036085          19.0        12.3  0.652525\n",
       "        30          0.030568          61.0        47.5  0.779889\n",
       "        100         0.041902         200.4       174.2  0.871286\n",
       "        300         0.034056         596.8       556.6  0.932822\n",
       "        1000        0.027569        1997.3      1924.7  0.963897\n",
       "27      10          0.100206          32.5        10.4  0.322724\n",
       "        30          0.117472          95.4        45.1  0.476408\n",
       "        100         0.127163         313.6       224.2  0.715870\n",
       "        300         0.115269         935.1       803.4  0.859693\n",
       "        1000        0.113754        3133.5      2901.1  0.925929\n",
       "81      10          0.291510          44.6        10.0  0.226340\n",
       "        30          0.445824         137.3        32.2  0.235613\n",
       "        100         0.324857         441.7       183.8  0.417075\n",
       "        300         0.429134        1326.7       909.6  0.685805\n",
       "        1000        0.418155        4420.9      3697.9  0.836572\n",
       "243     10          0.521880          56.8        10.0  0.176990\n",
       "        30          0.888472         173.5        30.0  0.173350\n",
       "        100         1.094221         570.9       108.5  0.190250\n",
       "        300         1.135477        1707.0       647.6  0.379445\n",
       "        1000        1.316917        5689.3      3924.5  0.689917\n",
       "729     10          0.996298          72.7        10.0  0.138113\n",
       "        30          1.598102         208.8        30.0  0.143990\n",
       "        100         2.424564         698.9       100.8  0.144303\n",
       "        300         2.981897        2110.2       326.1  0.154552\n",
       "        1000        3.393890        7024.4      2708.0  0.385558"
      ]
     },
     "execution_count": 9,
     "metadata": {},
     "output_type": "execute_result"
    }
   ],
   "source": [
    "mean_df = full_df.groupby(['NQubits','NGates']).mean() # New dataframe with average values\n",
    "std_df = full_df.groupby(['NQubits','NGates']).std() # New dataframe with standard deviations\n",
    "mean_df # Just to print the averages"
   ]
  },
  {
   "cell_type": "markdown",
   "metadata": {},
   "source": [
    "## Visualization"
   ]
  },
  {
   "cell_type": "markdown",
   "metadata": {},
   "source": [
    "Now we're just going to make some plots that compare the different performances. The first shows the performance, in terms of the ratio of initial to final costs, and how that scales as gates are added."
   ]
  },
  {
   "cell_type": "code",
   "execution_count": 10,
   "metadata": {
    "collapsed": false
   },
   "outputs": [
    {
     "data": {
      "text/plain": [
       "<matplotlib.legend.Legend at 0x11dca4a90>"
      ]
     },
     "execution_count": 10,
     "metadata": {},
     "output_type": "execute_result"
    },
    {
     "data": {
      "image/png": "[encoded data removed]",
      "text/plain": [
       "<matplotlib.figure.Figure at 0x11a769358>"
      ]
     },
     "metadata": {},
     "output_type": "display_data"
    }
   ],
   "source": [
    "for i in nqubits_list:\n",
    "    mean_df.loc[i]['Ratio'].plot(yerr = std_df.loc[i]['Ratio'],\n",
    "        marker='o', ax=plt.gca(), legend = False, logx = True, logy = False, label = str(i) + ' qubits')\n",
    "plt.ylim(0,1)\n",
    "plt.xlabel('Number of gates')\n",
    "plt.ylabel('Fraction of original cost')\n",
    "plt.legend([\"{} qubits\".format(i) for i in nqubits_list])"
   ]
  },
  {
   "cell_type": "markdown",
   "metadata": {},
   "source": [
    "This next plot shows the runtime of the program for various numbers of gates as we increase the size of the circuit."
   ]
  },
  {
   "cell_type": "code",
   "execution_count": 11,
   "metadata": {
    "collapsed": false
   },
   "outputs": [
    {
     "ename": "KeyError",
     "evalue": "'P+R Time'",
     "output_type": "error",
     "traceback": [
      "\u001b[0;31m---------------------------------------------------------------------------\u001b[0m",
      "\u001b[0;31mKeyError\u001b[0m                                  Traceback (most recent call last)",
      "\u001b[0;32m/Users/zachary/anaconda/lib/python3.6/site-packages/pandas/core/indexes/base.py\u001b[0m in \u001b[0;36mget_loc\u001b[0;34m(self, key, method, tolerance)\u001b[0m\n\u001b[1;32m   2441\u001b[0m             \u001b[0;32mtry\u001b[0m\u001b[0;34m:\u001b[0m\u001b[0;34m\u001b[0m\u001b[0m\n\u001b[0;32m-> 2442\u001b[0;31m                 \u001b[0;32mreturn\u001b[0m \u001b[0mself\u001b[0m\u001b[0;34m.\u001b[0m\u001b[0m_engine\u001b[0m\u001b[0;34m.\u001b[0m\u001b[0mget_loc\u001b[0m\u001b[0;34m(\u001b[0m\u001b[0mkey\u001b[0m\u001b[0;34m)\u001b[0m\u001b[0;34m\u001b[0m\u001b[0m\n\u001b[0m\u001b[1;32m   2443\u001b[0m             \u001b[0;32mexcept\u001b[0m \u001b[0mKeyError\u001b[0m\u001b[0;34m:\u001b[0m\u001b[0;34m\u001b[0m\u001b[0m\n",
      "\u001b[0;32mpandas/_libs/index.pyx\u001b[0m in \u001b[0;36mpandas._libs.index.IndexEngine.get_loc\u001b[0;34m()\u001b[0m\n",
      "\u001b[0;32mpandas/_libs/index.pyx\u001b[0m in \u001b[0;36mpandas._libs.index.IndexEngine.get_loc\u001b[0;34m()\u001b[0m\n",
      "\u001b[0;32mpandas/_libs/hashtable_class_helper.pxi\u001b[0m in \u001b[0;36mpandas._libs.hashtable.PyObjectHashTable.get_item\u001b[0;34m()\u001b[0m\n",
      "\u001b[0;32mpandas/_libs/hashtable_class_helper.pxi\u001b[0m in \u001b[0;36mpandas._libs.hashtable.PyObjectHashTable.get_item\u001b[0;34m()\u001b[0m\n",
      "\u001b[0;31mKeyError\u001b[0m: 'P+R Time'",
      "\nDuring handling of the above exception, another exception occurred:\n",
      "\u001b[0;31mKeyError\u001b[0m                                  Traceback (most recent call last)",
      "\u001b[0;32m<ipython-input-11-8d3ab0ce4fa7>\u001b[0m in \u001b[0;36m<module>\u001b[0;34m()\u001b[0m\n\u001b[1;32m      1\u001b[0m \u001b[0;32mfor\u001b[0m \u001b[0mi\u001b[0m \u001b[0;32min\u001b[0m \u001b[0mngate_list\u001b[0m\u001b[0;34m:\u001b[0m\u001b[0;34m\u001b[0m\u001b[0m\n\u001b[0;32m----> 2\u001b[0;31m     \u001b[0mplt\u001b[0m\u001b[0;34m.\u001b[0m\u001b[0mloglog\u001b[0m\u001b[0;34m(\u001b[0m\u001b[0mnqubits_list\u001b[0m\u001b[0;34m,\u001b[0m\u001b[0mmean_df\u001b[0m\u001b[0;34m.\u001b[0m\u001b[0mxs\u001b[0m\u001b[0;34m(\u001b[0m\u001b[0mi\u001b[0m\u001b[0;34m,\u001b[0m\u001b[0mlevel\u001b[0m\u001b[0;34m=\u001b[0m\u001b[0;34m'NGates'\u001b[0m\u001b[0;34m)\u001b[0m\u001b[0;34m[\u001b[0m\u001b[0;34m'P+R Time'\u001b[0m\u001b[0;34m]\u001b[0m\u001b[0;34m,\u001b[0m \u001b[0mmarker\u001b[0m \u001b[0;34m=\u001b[0m \u001b[0;34m'o'\u001b[0m\u001b[0;34m,\u001b[0m \u001b[0mlabel\u001b[0m \u001b[0;34m=\u001b[0m \u001b[0mstr\u001b[0m\u001b[0;34m(\u001b[0m\u001b[0mi\u001b[0m\u001b[0;34m)\u001b[0m \u001b[0;34m+\u001b[0m \u001b[0;34m' gates'\u001b[0m\u001b[0;34m)\u001b[0m\u001b[0;34m\u001b[0m\u001b[0m\n\u001b[0m\u001b[1;32m      3\u001b[0m \u001b[0mplt\u001b[0m\u001b[0;34m.\u001b[0m\u001b[0mylabel\u001b[0m\u001b[0;34m(\u001b[0m\u001b[0;34m'Run time of program (s)'\u001b[0m\u001b[0;34m)\u001b[0m\u001b[0;34m\u001b[0m\u001b[0m\n\u001b[1;32m      4\u001b[0m \u001b[0mplt\u001b[0m\u001b[0;34m.\u001b[0m\u001b[0mxlabel\u001b[0m\u001b[0;34m(\u001b[0m\u001b[0;34m'Number of qubits'\u001b[0m\u001b[0;34m)\u001b[0m\u001b[0;34m\u001b[0m\u001b[0m\n\u001b[1;32m      5\u001b[0m \u001b[0mplt\u001b[0m\u001b[0;34m.\u001b[0m\u001b[0mlegend\u001b[0m\u001b[0;34m(\u001b[0m\u001b[0;34m)\u001b[0m\u001b[0;34m\u001b[0m\u001b[0m\n",
      "\u001b[0;32m/Users/zachary/anaconda/lib/python3.6/site-packages/pandas/core/frame.py\u001b[0m in \u001b[0;36m__getitem__\u001b[0;34m(self, key)\u001b[0m\n\u001b[1;32m   1962\u001b[0m             \u001b[0;32mreturn\u001b[0m \u001b[0mself\u001b[0m\u001b[0;34m.\u001b[0m\u001b[0m_getitem_multilevel\u001b[0m\u001b[0;34m(\u001b[0m\u001b[0mkey\u001b[0m\u001b[0;34m)\u001b[0m\u001b[0;34m\u001b[0m\u001b[0m\n\u001b[1;32m   1963\u001b[0m         \u001b[0;32melse\u001b[0m\u001b[0;34m:\u001b[0m\u001b[0;34m\u001b[0m\u001b[0m\n\u001b[0;32m-> 1964\u001b[0;31m             \u001b[0;32mreturn\u001b[0m \u001b[0mself\u001b[0m\u001b[0;34m.\u001b[0m\u001b[0m_getitem_column\u001b[0m\u001b[0;34m(\u001b[0m\u001b[0mkey\u001b[0m\u001b[0;34m)\u001b[0m\u001b[0;34m\u001b[0m\u001b[0m\n\u001b[0m\u001b[1;32m   1965\u001b[0m \u001b[0;34m\u001b[0m\u001b[0m\n\u001b[1;32m   1966\u001b[0m     \u001b[0;32mdef\u001b[0m \u001b[0m_getitem_column\u001b[0m\u001b[0;34m(\u001b[0m\u001b[0mself\u001b[0m\u001b[0;34m,\u001b[0m \u001b[0mkey\u001b[0m\u001b[0;34m)\u001b[0m\u001b[0;34m:\u001b[0m\u001b[0;34m\u001b[0m\u001b[0m\n",
      "\u001b[0;32m/Users/zachary/anaconda/lib/python3.6/site-packages/pandas/core/frame.py\u001b[0m in \u001b[0;36m_getitem_column\u001b[0;34m(self, key)\u001b[0m\n\u001b[1;32m   1969\u001b[0m         \u001b[0;31m# get column\u001b[0m\u001b[0;34m\u001b[0m\u001b[0;34m\u001b[0m\u001b[0m\n\u001b[1;32m   1970\u001b[0m         \u001b[0;32mif\u001b[0m \u001b[0mself\u001b[0m\u001b[0;34m.\u001b[0m\u001b[0mcolumns\u001b[0m\u001b[0;34m.\u001b[0m\u001b[0mis_unique\u001b[0m\u001b[0;34m:\u001b[0m\u001b[0;34m\u001b[0m\u001b[0m\n\u001b[0;32m-> 1971\u001b[0;31m             \u001b[0;32mreturn\u001b[0m \u001b[0mself\u001b[0m\u001b[0;34m.\u001b[0m\u001b[0m_get_item_cache\u001b[0m\u001b[0;34m(\u001b[0m\u001b[0mkey\u001b[0m\u001b[0;34m)\u001b[0m\u001b[0;34m\u001b[0m\u001b[0m\n\u001b[0m\u001b[1;32m   1972\u001b[0m \u001b[0;34m\u001b[0m\u001b[0m\n\u001b[1;32m   1973\u001b[0m         \u001b[0;31m# duplicate columns & possible reduce dimensionality\u001b[0m\u001b[0;34m\u001b[0m\u001b[0;34m\u001b[0m\u001b[0m\n",
      "\u001b[0;32m/Users/zachary/anaconda/lib/python3.6/site-packages/pandas/core/generic.py\u001b[0m in \u001b[0;36m_get_item_cache\u001b[0;34m(self, item)\u001b[0m\n\u001b[1;32m   1643\u001b[0m         \u001b[0mres\u001b[0m \u001b[0;34m=\u001b[0m \u001b[0mcache\u001b[0m\u001b[0;34m.\u001b[0m\u001b[0mget\u001b[0m\u001b[0;34m(\u001b[0m\u001b[0mitem\u001b[0m\u001b[0;34m)\u001b[0m\u001b[0;34m\u001b[0m\u001b[0m\n\u001b[1;32m   1644\u001b[0m         \u001b[0;32mif\u001b[0m \u001b[0mres\u001b[0m \u001b[0;32mis\u001b[0m \u001b[0;32mNone\u001b[0m\u001b[0;34m:\u001b[0m\u001b[0;34m\u001b[0m\u001b[0m\n\u001b[0;32m-> 1645\u001b[0;31m             \u001b[0mvalues\u001b[0m \u001b[0;34m=\u001b[0m \u001b[0mself\u001b[0m\u001b[0;34m.\u001b[0m\u001b[0m_data\u001b[0m\u001b[0;34m.\u001b[0m\u001b[0mget\u001b[0m\u001b[0;34m(\u001b[0m\u001b[0mitem\u001b[0m\u001b[0;34m)\u001b[0m\u001b[0;34m\u001b[0m\u001b[0m\n\u001b[0m\u001b[1;32m   1646\u001b[0m             \u001b[0mres\u001b[0m \u001b[0;34m=\u001b[0m \u001b[0mself\u001b[0m\u001b[0;34m.\u001b[0m\u001b[0m_box_item_values\u001b[0m\u001b[0;34m(\u001b[0m\u001b[0mitem\u001b[0m\u001b[0;34m,\u001b[0m \u001b[0mvalues\u001b[0m\u001b[0;34m)\u001b[0m\u001b[0;34m\u001b[0m\u001b[0m\n\u001b[1;32m   1647\u001b[0m             \u001b[0mcache\u001b[0m\u001b[0;34m[\u001b[0m\u001b[0mitem\u001b[0m\u001b[0;34m]\u001b[0m \u001b[0;34m=\u001b[0m \u001b[0mres\u001b[0m\u001b[0;34m\u001b[0m\u001b[0m\n",
      "\u001b[0;32m/Users/zachary/anaconda/lib/python3.6/site-packages/pandas/core/internals.py\u001b[0m in \u001b[0;36mget\u001b[0;34m(self, item, fastpath)\u001b[0m\n\u001b[1;32m   3588\u001b[0m \u001b[0;34m\u001b[0m\u001b[0m\n\u001b[1;32m   3589\u001b[0m             \u001b[0;32mif\u001b[0m \u001b[0;32mnot\u001b[0m \u001b[0misnull\u001b[0m\u001b[0;34m(\u001b[0m\u001b[0mitem\u001b[0m\u001b[0;34m)\u001b[0m\u001b[0;34m:\u001b[0m\u001b[0;34m\u001b[0m\u001b[0m\n\u001b[0;32m-> 3590\u001b[0;31m                 \u001b[0mloc\u001b[0m \u001b[0;34m=\u001b[0m \u001b[0mself\u001b[0m\u001b[0;34m.\u001b[0m\u001b[0mitems\u001b[0m\u001b[0;34m.\u001b[0m\u001b[0mget_loc\u001b[0m\u001b[0;34m(\u001b[0m\u001b[0mitem\u001b[0m\u001b[0;34m)\u001b[0m\u001b[0;34m\u001b[0m\u001b[0m\n\u001b[0m\u001b[1;32m   3591\u001b[0m             \u001b[0;32melse\u001b[0m\u001b[0;34m:\u001b[0m\u001b[0;34m\u001b[0m\u001b[0m\n\u001b[1;32m   3592\u001b[0m                 \u001b[0mindexer\u001b[0m \u001b[0;34m=\u001b[0m \u001b[0mnp\u001b[0m\u001b[0;34m.\u001b[0m\u001b[0marange\u001b[0m\u001b[0;34m(\u001b[0m\u001b[0mlen\u001b[0m\u001b[0;34m(\u001b[0m\u001b[0mself\u001b[0m\u001b[0;34m.\u001b[0m\u001b[0mitems\u001b[0m\u001b[0;34m)\u001b[0m\u001b[0;34m)\u001b[0m\u001b[0;34m[\u001b[0m\u001b[0misnull\u001b[0m\u001b[0;34m(\u001b[0m\u001b[0mself\u001b[0m\u001b[0;34m.\u001b[0m\u001b[0mitems\u001b[0m\u001b[0;34m)\u001b[0m\u001b[0;34m]\u001b[0m\u001b[0;34m\u001b[0m\u001b[0m\n",
      "\u001b[0;32m/Users/zachary/anaconda/lib/python3.6/site-packages/pandas/core/indexes/base.py\u001b[0m in \u001b[0;36mget_loc\u001b[0;34m(self, key, method, tolerance)\u001b[0m\n\u001b[1;32m   2442\u001b[0m                 \u001b[0;32mreturn\u001b[0m \u001b[0mself\u001b[0m\u001b[0;34m.\u001b[0m\u001b[0m_engine\u001b[0m\u001b[0;34m.\u001b[0m\u001b[0mget_loc\u001b[0m\u001b[0;34m(\u001b[0m\u001b[0mkey\u001b[0m\u001b[0;34m)\u001b[0m\u001b[0;34m\u001b[0m\u001b[0m\n\u001b[1;32m   2443\u001b[0m             \u001b[0;32mexcept\u001b[0m \u001b[0mKeyError\u001b[0m\u001b[0;34m:\u001b[0m\u001b[0;34m\u001b[0m\u001b[0m\n\u001b[0;32m-> 2444\u001b[0;31m                 \u001b[0;32mreturn\u001b[0m \u001b[0mself\u001b[0m\u001b[0;34m.\u001b[0m\u001b[0m_engine\u001b[0m\u001b[0;34m.\u001b[0m\u001b[0mget_loc\u001b[0m\u001b[0;34m(\u001b[0m\u001b[0mself\u001b[0m\u001b[0;34m.\u001b[0m\u001b[0m_maybe_cast_indexer\u001b[0m\u001b[0;34m(\u001b[0m\u001b[0mkey\u001b[0m\u001b[0;34m)\u001b[0m\u001b[0;34m)\u001b[0m\u001b[0;34m\u001b[0m\u001b[0m\n\u001b[0m\u001b[1;32m   2445\u001b[0m \u001b[0;34m\u001b[0m\u001b[0m\n\u001b[1;32m   2446\u001b[0m         \u001b[0mindexer\u001b[0m \u001b[0;34m=\u001b[0m \u001b[0mself\u001b[0m\u001b[0;34m.\u001b[0m\u001b[0mget_indexer\u001b[0m\u001b[0;34m(\u001b[0m\u001b[0;34m[\u001b[0m\u001b[0mkey\u001b[0m\u001b[0;34m]\u001b[0m\u001b[0;34m,\u001b[0m \u001b[0mmethod\u001b[0m\u001b[0;34m=\u001b[0m\u001b[0mmethod\u001b[0m\u001b[0;34m,\u001b[0m \u001b[0mtolerance\u001b[0m\u001b[0;34m=\u001b[0m\u001b[0mtolerance\u001b[0m\u001b[0;34m)\u001b[0m\u001b[0;34m\u001b[0m\u001b[0m\n",
      "\u001b[0;32mpandas/_libs/index.pyx\u001b[0m in \u001b[0;36mpandas._libs.index.IndexEngine.get_loc\u001b[0;34m()\u001b[0m\n",
      "\u001b[0;32mpandas/_libs/index.pyx\u001b[0m in \u001b[0;36mpandas._libs.index.IndexEngine.get_loc\u001b[0;34m()\u001b[0m\n",
      "\u001b[0;32mpandas/_libs/hashtable_class_helper.pxi\u001b[0m in \u001b[0;36mpandas._libs.hashtable.PyObjectHashTable.get_item\u001b[0;34m()\u001b[0m\n",
      "\u001b[0;32mpandas/_libs/hashtable_class_helper.pxi\u001b[0m in \u001b[0;36mpandas._libs.hashtable.PyObjectHashTable.get_item\u001b[0;34m()\u001b[0m\n",
      "\u001b[0;31mKeyError\u001b[0m: 'P+R Time'"
     ]
    }
   ],
   "source": [
    "for i in ngate_list:\n",
    "    plt.loglog(nqubits_list,mean_df.xs(i,level='NGates')['P+R Time'], marker = 'o', label = str(i) + ' gates')\n",
    "plt.ylabel('Run time of program (s)')\n",
    "plt.xlabel('Number of qubits')\n",
    "plt.legend()"
   ]
  },
  {
   "cell_type": "markdown",
   "metadata": {},
   "source": [
    "Finally, program runtime where we look at lines of constant numbers of qubits as the number of gates scales."
   ]
  },
  {
   "cell_type": "code",
   "execution_count": null,
   "metadata": {
    "collapsed": false
   },
   "outputs": [],
   "source": [
    "for i in nqubits_list:\n",
    "    plt.loglog(ngate_list,mean_df.xs(i,level='NQubits')['P+R Time'], marker = 'o', label = str(i) + ' qubits')\n",
    "plt.ylabel('Run time of program (s)')\n",
    "plt.xlabel('Number of gates')\n",
    "plt.legend(loc = 2)"
   ]
  }
 ],
 "metadata": {
  "kernelspec": {
   "display_name": "Python 3",
   "language": "python",
   "name": "python3"
  },
  "language_info": {
   "codemirror_mode": {
    "name": "ipython",
    "version": 3
   },
   "file_extension": ".py",
   "mimetype": "text/x-python",
   "name": "python",
   "nbconvert_exporter": "python",
   "pygments_lexer": "ipython3",
   "version": "3.6.4"
  }
 },
 "nbformat": 4,
 "nbformat_minor": 2
}
