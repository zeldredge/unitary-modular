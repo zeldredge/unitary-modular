{
 "cells": [
  {
   "cell_type": "code",
   "execution_count": 1,
   "metadata": {
    "collapsed": true
   },
   "outputs": [],
   "source": [
    "from modular_entanglement import *\n",
    "import matplotlib.pyplot as plt\n",
    "import matplotlib.lines as mlines\n",
    "import time\n",
    "%matplotlib inline"
   ]
  },
  {
   "cell_type": "markdown",
   "metadata": {},
   "source": [
    "This notebook is intended to provide all the necessary code to duplicate the results in Section V of \"Unitary Entanglement Construction in Hierarchical Networks,\" Bapat et al 2018. All functions called are stored in a file called modular_entanglement.py, which should have been distributed with this notebook. Contact Zachary Eldredge at eldredge@umd.edu with questions.\n",
    "\n",
    "This code is intended to perform circuit placement on a large number of randomly generated circuits, placing them onto hierarchy graphs. The first section demonstrates how circuit placement is performed on a single graph, before moving on to more profiling-based work."
   ]
  },
  {
   "cell_type": "markdown",
   "metadata": {},
   "source": [
    "# Circuit Placement Demonstration"
   ]
  },
  {
   "cell_type": "markdown",
   "metadata": {},
   "source": [
    "Before the code that performs many trials to profile the average performance of our circuit placement, I'd like to demonstrate how the circuit placement function is used, so it can be understood without all the iteration. Here is how it works. First, we build a hierarchy graph (with all edges unity weight, i.e., $\\alpha = 1$). We'll build $K_3^{\\Pi 4}$. "
   ]
  },
  {
   "cell_type": "code",
   "execution_count": 2,
   "metadata": {
    "collapsed": false
   },
   "outputs": [],
   "source": [
    "hierarchy = build_weighted_hierarchical(nx.complete_graph(3), 4, lambda x: 1)"
   ]
  },
  {
   "cell_type": "markdown",
   "metadata": {},
   "source": [
    "Now, we need a circuit to place. We'll use the function $\\mathrm{get\\_random\\_comp\\_graph}$ to produce a computational graph that has random edges. We'll say it has 1000 gates placed on it (that ends up being the total edge weight, added one at a time between random nodes)."
   ]
  },
  {
   "cell_type": "code",
   "execution_count": 3,
   "metadata": {
    "collapsed": false
   },
   "outputs": [],
   "source": [
    "comp = get_random_comp_graph(3**4, 100)"
   ]
  },
  {
   "cell_type": "markdown",
   "metadata": {},
   "source": [
    "How bad is this circuit right now? We can first look at the \"default\" mapping where we just naively match nodes in comp to nodes in hierarchy. Then we evaluate the cost with $\\mathrm{length\\_cost}$, which needs the computational graph, the metric, and the mapping between them. That mapping needs to be a one-to-one dictionary in which the keys are node labels in the metric graph and the values are node labels in the computational graph (in this case, just integers)."
   ]
  },
  {
   "cell_type": "code",
   "execution_count": 4,
   "metadata": {
    "collapsed": false
   },
   "outputs": [
    {
     "name": "stdout",
     "output_type": "stream",
     "text": [
      "Initial cost = 454\n"
     ]
    }
   ],
   "source": [
    "#Blindly take the hierarchy nodes and set them to the computational graph\n",
    "#Note that it doesn't really matter how we do this since comp_graph is random\n",
    "naive_map = {j:i for i, j in enumerate(hierarchy.nodes())} \n",
    "\n",
    "#Now, we count the total length the gates in comp must traverse in this mapping\n",
    "init_cost = length_cost(comp, hierarchy, naive_map)\n",
    "print('Initial cost = {}'.format(init_cost))"
   ]
  },
  {
   "cell_type": "markdown",
   "metadata": {},
   "source": [
    "Now, we want to perform partition-and-rotate. This is accomplished by the function $\\mathrm{pr\\_split\\_nodes}$, which is a recursive function that first splits all the nodes into small clusters and then re-assembles those clusters (and clusters of clusters etc) in the correct order, \"rotating\" to ensure that the best node is always at the root of each hierarchy. It returns a list in which the $i$th element represents the $i$th sub-hierarchy, and so on, recursively."
   ]
  },
  {
   "cell_type": "code",
   "execution_count": 5,
   "metadata": {
    "collapsed": false
   },
   "outputs": [
    {
     "data": {
      "text/plain": [
       "[[[[4, 59, 70], [49, 37, 71], [10, 66, 45]],\n",
       "  [[78, 0, 77], [51, 3, 42], [64, 60, 76]],\n",
       "  [[22, 6, 44], [7, 74, 2], [8, 50, 55]]],\n",
       " [[[17, 75, 29], [67, 12, 46], [16, 54, 57]],\n",
       "  [[14, 20, 34], [28, 48, 25], [47, 80, 23]],\n",
       "  [[1, 36, 5], [56, 27, 79], [68, 13, 65]]],\n",
       " [[[18, 61, 62], [63, 11, 31], [40, 21, 69]],\n",
       "  [[32, 39, 41], [35, 53, 72], [15, 58, 43]],\n",
       "  [[9, 26, 33], [19, 73, 30], [38, 52, 24]]]]"
      ]
     },
     "execution_count": 5,
     "metadata": {},
     "output_type": "execute_result"
    }
   ],
   "source": [
    "pr_list = pr_split_nodes(comp, comp.nodes(), 3)\n",
    "pr_list"
   ]
  },
  {
   "cell_type": "markdown",
   "metadata": {},
   "source": [
    "I find this list very elegant but also totally impossible to work with further in the program sadly. Don't worry -- we have a function ($\\mathrm{convert\\_split\\_list\\_to\\_dict}$) that takes this list and turns it into a mapping dictionary you can actually work with. Now we'll use $\\mathrm{length\\_cost}$ again to see the circuit cost under this new mapping."
   ]
  },
  {
   "cell_type": "code",
   "execution_count": 6,
   "metadata": {
    "collapsed": false
   },
   "outputs": [
    {
     "name": "stdout",
     "output_type": "stream",
     "text": [
      "Final cost = 187\n",
      "This is a 58.81% reduction from the initial cost.\n"
     ]
    }
   ],
   "source": [
    "pr_dict = convert_split_list_to_dict(pr_list)\n",
    "final_cost = length_cost(comp, hierarchy, pr_dict)\n",
    "print('Final cost = {}'.format(final_cost))\n",
    "print('This is a {0:.2%} reduction from the initial cost.'.format(1 - final_cost/init_cost))"
   ]
  },
  {
   "cell_type": "markdown",
   "metadata": {},
   "source": [
    "# Profiling the Performance"
   ]
  },
  {
   "cell_type": "markdown",
   "metadata": {},
   "source": [
    "Now that you've seen it work once (and hopefully see how to use it yourself if you like) we will do it many times to demonstrate the algorithm's performance statistically. The following loop runs over $K_3^{\\Pi i}$ for several $i$ declared in $\\mathrm{levels\\_list}$. On each hierarchy it places random computational graphs of different numbers of gates, specified in $\\mathrm{ngates\\_list}$. For each of these pairs, it runs $\\mathrm{ntrials}$ iterations of:\n",
    "\n",
    "1) Create random computational graph\n",
    "\n",
    "2) Evaluate the initial cost using the \"naive\" mapping\n",
    "\n",
    "3) Perform parition-and-rotate\n",
    "\n",
    "4) Re-evaluate the cost with the optimized mapping\n",
    "\n",
    "We also time each iteration. All of these trials are stored in a Pandas dataframe. Note that the default parameters should run in less than five minutes."
   ]
  },
  {
   "cell_type": "markdown",
   "metadata": {},
   "source": [
    "## Test Parameters"
   ]
  },
  {
   "cell_type": "code",
   "execution_count": 7,
   "metadata": {
    "collapsed": true
   },
   "outputs": [],
   "source": [
    "levels_list = [2,3,4,5,6]\n",
    "ngate_list = [10,30,100,300,1000]\n",
    "ntrials = 10\n",
    "base_graph = nx.complete_graph(3)\n",
    "base_order = len(base_graph)"
   ]
  },
  {
   "cell_type": "markdown",
   "metadata": {},
   "source": [
    "## Test Loop"
   ]
  },
  {
   "cell_type": "code",
   "execution_count": 8,
   "metadata": {
    "collapsed": false
   },
   "outputs": [
    {
     "name": "stdout",
     "output_type": "stream",
     "text": [
      "CPU times: user 21.6 s, sys: 10.7 s, total: 32.3 s\n",
      "Wall time: 3min 29s\n"
     ]
    }
   ],
   "source": [
    "%%time\n",
    "nqubits_list = [base_order**i for i in levels_list] # A list of how many qubits are included in each test circuit\n",
    "\n",
    "#Build the empty dataframe and initiate a counter\n",
    "column_list = ['NQubits', 'NGates', 'P+R Time (s)', 'Initial Cost', 'Final Cost']\n",
    "full_df = pd.DataFrame([], columns= column_list)\n",
    "iterate_counter = 0\n",
    "\n",
    "for nqubits in nqubits_list: # Loop over qubit sizes\n",
    "    hierarchy = build_weighted_hierarchical(base_graph, ceil(log(nqubits,base_order)), lambda x: 1)\n",
    "    for ngates in ngate_list: # Loop over number of gates\n",
    "        for trial in range(ntrials): # Loop over every trial\n",
    "            c = get_random_comp_graph(nqubits, ngates) # Get a random computational graph\n",
    "            \n",
    "            init_cost = length_cost(c, hierarchy, {j:i for i,j in enumerate(hierarchy.nodes())}) # Calculate \"naive\" cost\n",
    "            \n",
    "            start = time.time() # Start timing \n",
    "            pr_split_list = pr_split_nodes(c, c.nodes(), base_order) # Run partition-and-rotate\n",
    "            pr_dict = convert_split_list_to_dict(pr_split_list) # Conver to a mapping\n",
    "            end = time.time()\n",
    "            \n",
    "            pr_cost = length_cost(c, hierarchy, pr_dict) # Get cost under new mapping\n",
    "            pr_time = end - start # Calculate how long that took\n",
    "            \n",
    "            trial_df = pd.DataFrame([[nqubits, ngates, pr_time, init_cost, \n",
    "                                      pr_cost]],\n",
    "                               columns=column_list, \n",
    "                                    index = [iterate_counter]) # Create a dataframe for this trial\n",
    "            iterate_counter += 1 # Iterate the counter\n",
    "            full_df = full_df.append(trial_df) # Add this trial to the running data frame\n",
    "\n",
    "            \n",
    "# All trials are done -- some post-processing\n",
    "full_df['Initial Cost'] = full_df['Initial Cost'].astype(int) # Case some stuff to floats\n",
    "full_df['Final Cost'] = full_df['Final Cost'].astype(int)\n",
    "full_df['Ratio'] = full_df['Final Cost']/full_df['Initial Cost'] # Compute the ratio that describes the improvement"
   ]
  },
  {
   "cell_type": "markdown",
   "metadata": {},
   "source": [
    "At this point, the DataFrame $\\mathrm{full\\_df}$ contains the individual statistics for every single separate \"experiment.\" This isn't that useful, so we use $\\mathrm{pandas.groupby().mean()}$ and $\\mathrm{pandas.groupby().std()}$ to find the mean and standard deviation of the trials, grouped by the number of qubits and the number of gates. The standard deviations in $\\mathrm{std_df}$ are used for plotting later."
   ]
  },
  {
   "cell_type": "code",
   "execution_count": 9,
   "metadata": {
    "collapsed": false
   },
   "outputs": [
    {
     "data": {
      "text/html": [
       "<div>\n",
       "<style>\n",
       "    .dataframe thead tr:only-child th {\n",
       "        text-align: right;\n",
       "    }\n",
       "\n",
       "    .dataframe thead th {\n",
       "        text-align: left;\n",
       "    }\n",
       "\n",
       "    .dataframe tbody tr th {\n",
       "        vertical-align: top;\n",
       "    }\n",
       "</style>\n",
       "<table border=\"1\" class=\"dataframe\">\n",
       "  <thead>\n",
       "    <tr style=\"text-align: right;\">\n",
       "      <th></th>\n",
       "      <th></th>\n",
       "      <th>P+R Time (s)</th>\n",
       "      <th>Initial Cost</th>\n",
       "      <th>Final Cost</th>\n",
       "      <th>Ratio</th>\n",
       "    </tr>\n",
       "    <tr>\n",
       "      <th>NQubits</th>\n",
       "      <th>NGates</th>\n",
       "      <th></th>\n",
       "      <th></th>\n",
       "      <th></th>\n",
       "      <th></th>\n",
       "    </tr>\n",
       "  </thead>\n",
       "  <tbody>\n",
       "    <tr>\n",
       "      <th rowspan=\"5\" valign=\"top\">9</th>\n",
       "      <th>10</th>\n",
       "      <td>0.030565</td>\n",
       "      <td>18.8</td>\n",
       "      <td>12.3</td>\n",
       "      <td>0.660068</td>\n",
       "    </tr>\n",
       "    <tr>\n",
       "      <th>30</th>\n",
       "      <td>0.029346</td>\n",
       "      <td>59.7</td>\n",
       "      <td>47.3</td>\n",
       "      <td>0.796592</td>\n",
       "    </tr>\n",
       "    <tr>\n",
       "      <th>100</th>\n",
       "      <td>0.028301</td>\n",
       "      <td>198.1</td>\n",
       "      <td>176.9</td>\n",
       "      <td>0.894093</td>\n",
       "    </tr>\n",
       "    <tr>\n",
       "      <th>300</th>\n",
       "      <td>0.020904</td>\n",
       "      <td>598.6</td>\n",
       "      <td>557.7</td>\n",
       "      <td>0.932122</td>\n",
       "    </tr>\n",
       "    <tr>\n",
       "      <th>1000</th>\n",
       "      <td>0.023482</td>\n",
       "      <td>2007.6</td>\n",
       "      <td>1924.1</td>\n",
       "      <td>0.958560</td>\n",
       "    </tr>\n",
       "    <tr>\n",
       "      <th rowspan=\"5\" valign=\"top\">27</th>\n",
       "      <th>10</th>\n",
       "      <td>0.085519</td>\n",
       "      <td>30.6</td>\n",
       "      <td>10.2</td>\n",
       "      <td>0.334715</td>\n",
       "    </tr>\n",
       "    <tr>\n",
       "      <th>30</th>\n",
       "      <td>0.103590</td>\n",
       "      <td>94.3</td>\n",
       "      <td>44.6</td>\n",
       "      <td>0.477793</td>\n",
       "    </tr>\n",
       "    <tr>\n",
       "      <th>100</th>\n",
       "      <td>0.106766</td>\n",
       "      <td>320.4</td>\n",
       "      <td>224.7</td>\n",
       "      <td>0.702169</td>\n",
       "    </tr>\n",
       "    <tr>\n",
       "      <th>300</th>\n",
       "      <td>0.132996</td>\n",
       "      <td>944.9</td>\n",
       "      <td>804.2</td>\n",
       "      <td>0.851512</td>\n",
       "    </tr>\n",
       "    <tr>\n",
       "      <th>1000</th>\n",
       "      <td>0.182373</td>\n",
       "      <td>3130.9</td>\n",
       "      <td>2909.2</td>\n",
       "      <td>0.929419</td>\n",
       "    </tr>\n",
       "    <tr>\n",
       "      <th rowspan=\"5\" valign=\"top\">81</th>\n",
       "      <th>10</th>\n",
       "      <td>0.377686</td>\n",
       "      <td>46.3</td>\n",
       "      <td>10.0</td>\n",
       "      <td>0.216815</td>\n",
       "    </tr>\n",
       "    <tr>\n",
       "      <th>30</th>\n",
       "      <td>0.370421</td>\n",
       "      <td>128.7</td>\n",
       "      <td>31.6</td>\n",
       "      <td>0.247543</td>\n",
       "    </tr>\n",
       "    <tr>\n",
       "      <th>100</th>\n",
       "      <td>0.314352</td>\n",
       "      <td>436.0</td>\n",
       "      <td>192.4</td>\n",
       "      <td>0.441543</td>\n",
       "    </tr>\n",
       "    <tr>\n",
       "      <th>300</th>\n",
       "      <td>0.357309</td>\n",
       "      <td>1319.8</td>\n",
       "      <td>911.1</td>\n",
       "      <td>0.690612</td>\n",
       "    </tr>\n",
       "    <tr>\n",
       "      <th>1000</th>\n",
       "      <td>0.462852</td>\n",
       "      <td>4409.7</td>\n",
       "      <td>3678.9</td>\n",
       "      <td>0.834427</td>\n",
       "    </tr>\n",
       "    <tr>\n",
       "      <th rowspan=\"5\" valign=\"top\">243</th>\n",
       "      <th>10</th>\n",
       "      <td>0.629306</td>\n",
       "      <td>57.6</td>\n",
       "      <td>10.0</td>\n",
       "      <td>0.174617</td>\n",
       "    </tr>\n",
       "    <tr>\n",
       "      <th>30</th>\n",
       "      <td>0.784173</td>\n",
       "      <td>167.4</td>\n",
       "      <td>30.0</td>\n",
       "      <td>0.179716</td>\n",
       "    </tr>\n",
       "    <tr>\n",
       "      <th>100</th>\n",
       "      <td>0.858607</td>\n",
       "      <td>569.3</td>\n",
       "      <td>108.8</td>\n",
       "      <td>0.191159</td>\n",
       "    </tr>\n",
       "    <tr>\n",
       "      <th>300</th>\n",
       "      <td>1.010777</td>\n",
       "      <td>1700.4</td>\n",
       "      <td>644.1</td>\n",
       "      <td>0.378867</td>\n",
       "    </tr>\n",
       "    <tr>\n",
       "      <th>1000</th>\n",
       "      <td>1.165619</td>\n",
       "      <td>5695.8</td>\n",
       "      <td>3937.4</td>\n",
       "      <td>0.691356</td>\n",
       "    </tr>\n",
       "    <tr>\n",
       "      <th rowspan=\"5\" valign=\"top\">729</th>\n",
       "      <th>10</th>\n",
       "      <td>0.831867</td>\n",
       "      <td>69.0</td>\n",
       "      <td>10.0</td>\n",
       "      <td>0.145765</td>\n",
       "    </tr>\n",
       "    <tr>\n",
       "      <th>30</th>\n",
       "      <td>1.459657</td>\n",
       "      <td>211.4</td>\n",
       "      <td>30.0</td>\n",
       "      <td>0.142152</td>\n",
       "    </tr>\n",
       "    <tr>\n",
       "      <th>100</th>\n",
       "      <td>2.856035</td>\n",
       "      <td>696.0</td>\n",
       "      <td>100.5</td>\n",
       "      <td>0.144476</td>\n",
       "    </tr>\n",
       "    <tr>\n",
       "      <th>300</th>\n",
       "      <td>3.613508</td>\n",
       "      <td>2110.8</td>\n",
       "      <td>326.4</td>\n",
       "      <td>0.154666</td>\n",
       "    </tr>\n",
       "    <tr>\n",
       "      <th>1000</th>\n",
       "      <td>4.282248</td>\n",
       "      <td>7024.4</td>\n",
       "      <td>2710.3</td>\n",
       "      <td>0.385885</td>\n",
       "    </tr>\n",
       "  </tbody>\n",
       "</table>\n",
       "</div>"
      ],
      "text/plain": [
       "                P+R Time (s)  Initial Cost  Final Cost     Ratio\n",
       "NQubits NGates                                                  \n",
       "9       10          0.030565          18.8        12.3  0.660068\n",
       "        30          0.029346          59.7        47.3  0.796592\n",
       "        100         0.028301         198.1       176.9  0.894093\n",
       "        300         0.020904         598.6       557.7  0.932122\n",
       "        1000        0.023482        2007.6      1924.1  0.958560\n",
       "27      10          0.085519          30.6        10.2  0.334715\n",
       "        30          0.103590          94.3        44.6  0.477793\n",
       "        100         0.106766         320.4       224.7  0.702169\n",
       "        300         0.132996         944.9       804.2  0.851512\n",
       "        1000        0.182373        3130.9      2909.2  0.929419\n",
       "81      10          0.377686          46.3        10.0  0.216815\n",
       "        30          0.370421         128.7        31.6  0.247543\n",
       "        100         0.314352         436.0       192.4  0.441543\n",
       "        300         0.357309        1319.8       911.1  0.690612\n",
       "        1000        0.462852        4409.7      3678.9  0.834427\n",
       "243     10          0.629306          57.6        10.0  0.174617\n",
       "        30          0.784173         167.4        30.0  0.179716\n",
       "        100         0.858607         569.3       108.8  0.191159\n",
       "        300         1.010777        1700.4       644.1  0.378867\n",
       "        1000        1.165619        5695.8      3937.4  0.691356\n",
       "729     10          0.831867          69.0        10.0  0.145765\n",
       "        30          1.459657         211.4        30.0  0.142152\n",
       "        100         2.856035         696.0       100.5  0.144476\n",
       "        300         3.613508        2110.8       326.4  0.154666\n",
       "        1000        4.282248        7024.4      2710.3  0.385885"
      ]
     },
     "execution_count": 9,
     "metadata": {},
     "output_type": "execute_result"
    }
   ],
   "source": [
    "mean_df = full_df.groupby(['NQubits','NGates']).mean() # New dataframe with average values\n",
    "std_df = full_df.groupby(['NQubits','NGates']).std() # New dataframe with standard deviations\n",
    "mean_df # Just to print the averages"
   ]
  },
  {
   "cell_type": "markdown",
   "metadata": {},
   "source": [
    "## Visualization"
   ]
  },
  {
   "cell_type": "markdown",
   "metadata": {},
   "source": [
    "Now we're just going to make some plots that compare the different performances. The first shows the performance, in terms of the ratio of initial to final costs, and how that scales as gates are added."
   ]
  },
  {
   "cell_type": "code",
   "execution_count": 13,
   "metadata": {
    "collapsed": false
   },
   "outputs": [
    {
     "data": {
      "text/plain": [
       "<matplotlib.legend.Legend at 0x1196cb0b8>"
      ]
     },
     "execution_count": 13,
     "metadata": {},
     "output_type": "execute_result"
    },
    {
     "data": {
      "image/png": "[encoded data removed]",
      "text/plain": [
       "<matplotlib.figure.Figure at 0x11958e320>"
      ]
     },
     "metadata": {},
     "output_type": "display_data"
    }
   ],
   "source": [
    "for i in nqubits_list[-3:]:\n",
    "    mean_df.loc[i]['Ratio'].plot(yerr = std_df.loc[i]['Ratio'],\n",
    "        marker='o', ax=plt.gca(), legend = False, logx = True, logy = False, label = str(i) + ' qubits')\n",
    "plt.ylim(0,1)\n",
    "plt.xlabel('Number of gates')\n",
    "plt.ylabel('Fraction of original cost')\n",
    "plt.legend([\"{} qubits\".format(i) for i in nqubits_list])"
   ]
  },
  {
   "cell_type": "markdown",
   "metadata": {},
   "source": [
    "This next plot shows the runtime of the program for various numbers of gates as we increase the size of the circuit."
   ]
  },
  {
   "cell_type": "code",
   "execution_count": 11,
   "metadata": {
    "collapsed": false
   },
   "outputs": [
    {
     "data": {
      "text/plain": [
       "<matplotlib.legend.Legend at 0x11913a9b0>"
      ]
     },
     "execution_count": 11,
     "metadata": {},
     "output_type": "execute_result"
    },
    {
     "data": {
      "image/png": "[encoded data removed]",
      "text/plain": [
       "<matplotlib.figure.Figure at 0x1190ccf98>"
      ]
     },
     "metadata": {},
     "output_type": "display_data"
    }
   ],
   "source": [
    "for i in ngate_list:\n",
    "    mean_df.xs(i,level='NGates')['P+R Time (s)'].plot(\n",
    "        yerr = std_df.xs(i,level='NGates')['P+R Time (s)'], marker = 'o',\n",
    "        label = str(i) + ' gates', logx = True, logy = True)\n",
    "plt.ylabel('Run time of program (s)')\n",
    "plt.xlabel('Number of qubits')\n",
    "plt.legend()"
   ]
  },
  {
   "cell_type": "markdown",
   "metadata": {},
   "source": [
    "Finally, program runtime where we look at lines of constant numbers of qubits as the number of gates scales."
   ]
  },
  {
   "cell_type": "code",
   "execution_count": 12,
   "metadata": {
    "collapsed": false
   },
   "outputs": [
    {
     "data": {
      "text/plain": [
       "<matplotlib.legend.Legend at 0x1194b3be0>"
      ]
     },
     "execution_count": 12,
     "metadata": {},
     "output_type": "execute_result"
    },
    {
     "data": {
      "image/png": "[encoded data removed]",
      "text/plain": [
       "<matplotlib.figure.Figure at 0x1193589e8>"
      ]
     },
     "metadata": {},
     "output_type": "display_data"
    }
   ],
   "source": [
    "for i in nqubits_list:\n",
    "    mean_df.xs(i,level='NQubits')['P+R Time (s)'].plot(\n",
    "        yerr = std_df.xs(i,level='NQubits')['P+R Time (s)'], marker = 'o',\n",
    "        label = str(i) + ' gates', logx = True, logy = True)\n",
    "plt.ylabel('Run time of program (s)')\n",
    "plt.xlabel('Number of gates')\n",
    "plt.legend(loc = 2)"
   ]
  },
  {
   "cell_type": "code",
   "execution_count": null,
   "metadata": {
    "collapsed": true
   },
   "outputs": [],
   "source": []
  }
 ],
 "metadata": {
  "kernelspec": {
   "display_name": "Python 3",
   "language": "python",
   "name": "python3"
  },
  "language_info": {
   "codemirror_mode": {
    "name": "ipython",
    "version": 3
   },
   "file_extension": ".py",
   "mimetype": "text/x-python",
   "name": "python",
   "nbconvert_exporter": "python",
   "pygments_lexer": "ipython3",
   "version": "3.6.4"
  }
 },
 "nbformat": 4,
 "nbformat_minor": 2
}
