{
 "cells": [
  {
   "cell_type": "code",
   "execution_count": 1,
   "metadata": {
    "collapsed": true
   },
   "outputs": [],
   "source": [
    "from modular_entanglement import *\n",
    "import matplotlib.pyplot as plt\n",
    "import matplotlib.lines as mlines\n",
    "import time\n",
    "%matplotlib inline"
   ]
  },
  {
   "cell_type": "markdown",
   "metadata": {},
   "source": [
    "This notebook is intended to provide all the necessary code to duplicate the results in Section V of \"Unitary Entanglement Construction in Hierarchical Networks,\" Bapat et al 2018. All functions called are stored in a file called modular_entanglement.py, which should have been distributed with this notebook. Contact Zachary Eldredge at eldredge@umd.edu with questions.\n",
    "\n",
    "This code is intended to perform circuit placement on a large number of randomly generated circuits, placing them onto hierarchy graphs. The first section demonstrates how circuit placement is performed on a single graph, before moving on to more profiling-based work."
   ]
  },
  {
   "cell_type": "markdown",
   "metadata": {},
   "source": [
    "# Circuit Placement Demonstration"
   ]
  },
  {
   "cell_type": "markdown",
   "metadata": {},
   "source": [
    "Before the code that performs many trials to profile the average performance of our circuit placement, I'd like to demonstrate how the circuit placement function is used, so it can be understood without all the iteration. Here is how it works. First, we build a hierarchy graph (with all edges unity weight, i.e., $\\alpha = 1$). We'll build $K_3^{\\Pi 4}$. "
   ]
  },
  {
   "cell_type": "code",
   "execution_count": 2,
   "metadata": {
    "collapsed": false
   },
   "outputs": [],
   "source": [
    "hierarchy = build_weighted_hierarchical(nx.complete_graph(3), 4, lambda x: 1)"
   ]
  },
  {
   "cell_type": "markdown",
   "metadata": {},
   "source": [
    "Now, we need a circuit to place. We'll use the function $\\mathrm{get\\_random\\_comp\\_graph}$ to produce a computational graph that has random edges. We'll say it has 1000 gates placed on it (that ends up being the total edge weight, added one at a time between random nodes)."
   ]
  },
  {
   "cell_type": "code",
   "execution_count": 3,
   "metadata": {
    "collapsed": false
   },
   "outputs": [],
   "source": [
    "comp = get_random_comp_graph(3**4, 100)"
   ]
  },
  {
   "cell_type": "markdown",
   "metadata": {},
   "source": [
    "How bad is this circuit right now? We can first look at the \"default\" mapping where we just naively match nodes in comp to nodes in hierarchy. Then we evaluate the cost with $\\mathrm{length\\_cost}$, which needs the computational graph, the metric, and the mapping between them. That mapping needs to be a one-to-one dictionary in which the keys are node labels in the metric graph and the values are node labels in the computational graph (in this case, just integers)."
   ]
  },
  {
   "cell_type": "code",
   "execution_count": 4,
   "metadata": {
    "collapsed": false
   },
   "outputs": [
    {
     "name": "stdout",
     "output_type": "stream",
     "text": [
      "Initial cost = 436\n"
     ]
    }
   ],
   "source": [
    "#Blindly take the hierarchy nodes and set them to the computational graph\n",
    "#Note that it doesn't really matter how we do this since comp_graph is random\n",
    "naive_map = {j:i for i, j in enumerate(hierarchy.nodes())} \n",
    "\n",
    "#Now, we count the total length the gates in comp must traverse in this mapping\n",
    "init_cost = length_cost(comp, hierarchy, naive_map)\n",
    "print('Initial cost = {}'.format(init_cost))"
   ]
  },
  {
   "cell_type": "markdown",
   "metadata": {},
   "source": [
    "Now, we want to perform partition-and-rotate. This is accomplished by the function $\\mathrm{pr\\_split\\_nodes}$, which is a recursive function that first splits all the nodes into small clusters and then re-assembles those clusters (and clusters of clusters etc) in the correct order, \"rotating\" to ensure that the best node is always at the root of each hierarchy. It returns a list in which the $i$th element represents the $i$th sub-hierarchy, and so on, recursively."
   ]
  },
  {
   "cell_type": "code",
   "execution_count": 5,
   "metadata": {
    "collapsed": false
   },
   "outputs": [
    {
     "data": {
      "text/plain": [
       "[[[[21, 61, 14], [41, 17, 62], [69, 27, 59]],\n",
       "  [[51, 26, 66], [45, 6, 65], [74, 50, 64]],\n",
       "  [[7, 0, 25], [34, 57, 8], [1, 10, 13]]],\n",
       " [[[3, 63, 36], [24, 67, 28], [48, 71, 37]],\n",
       "  [[56, 33, 49], [77, 9, 58], [19, 35, 54]],\n",
       "  [[16, 38, 79], [39, 40, 15], [68, 72, 76]]],\n",
       " [[[23, 75, 22], [78, 5, 18], [31, 4, 52]],\n",
       "  [[43, 73, 11], [46, 80, 32], [44, 42, 53]],\n",
       "  [[30, 12, 55], [2, 29, 60], [20, 47, 70]]]]"
      ]
     },
     "execution_count": 5,
     "metadata": {},
     "output_type": "execute_result"
    }
   ],
   "source": [
    "pr_list = pr_split_nodes(comp, comp.nodes(), 3)\n",
    "pr_list"
   ]
  },
  {
   "cell_type": "markdown",
   "metadata": {},
   "source": [
    "I find this list very elegant but also totally impossible to work with further in the program sadly. Don't worry -- we have a function ($\\mathrm{convert\\_split\\_list\\_to\\_dict}$) that takes this list and turns it into a mapping dictionary you can actually work with. Now we'll use $\\mathrm{length\\_cost}$ again to see the circuit cost under this new mapping."
   ]
  },
  {
   "cell_type": "code",
   "execution_count": 6,
   "metadata": {
    "collapsed": false
   },
   "outputs": [
    {
     "name": "stdout",
     "output_type": "stream",
     "text": [
      "Final cost = 190\n",
      "This is a 56.42% reduction from the initial cost.\n"
     ]
    }
   ],
   "source": [
    "pr_dict = convert_split_list_to_dict(pr_list)\n",
    "final_cost = length_cost(comp, hierarchy, pr_dict)\n",
    "print('Final cost = {}'.format(final_cost))\n",
    "print('This is a {0:.2%} reduction from the initial cost.'.format(1 - final_cost/init_cost))"
   ]
  },
  {
   "cell_type": "markdown",
   "metadata": {},
   "source": [
    "# Profiling the Performance"
   ]
  },
  {
   "cell_type": "markdown",
   "metadata": {},
   "source": [
    "Now that you've seen it work once (and hopefully see how to use it yourself if you like) we will do it many times to demonstrate the algorithm's performance statistically. The following loop runs over $K_3^{\\Pi i}$ for several $i$ declared in $\\mathrm{levels\\_list}$. On each hierarchy it places random computational graphs of different numbers of gates, specified in $\\mathrm{ngates\\_list}$. For each of these pairs, it runs $\\mathrm{ntrials}$ iterations of:\n",
    "\n",
    "1) Create random computational graph\n",
    "\n",
    "2) Evaluate the initial cost using the \"naive\" mapping\n",
    "\n",
    "3) Perform parition-and-rotate\n",
    "\n",
    "4) Re-evaluate the cost with the optimized mapping\n",
    "\n",
    "We also time each iteration. All of these trials are stored in a Pandas dataframe. Note that the default parameters should run in less than five minutes."
   ]
  },
  {
   "cell_type": "markdown",
   "metadata": {},
   "source": [
    "## Test Parameters"
   ]
  },
  {
   "cell_type": "code",
   "execution_count": 7,
   "metadata": {
    "collapsed": true
   },
   "outputs": [],
   "source": [
    "levels_list = [2,3,4,5,6]\n",
    "ngate_list = [10,30,100,300,1000]\n",
    "ntrials = 10\n",
    "base_graph = nx.complete_graph(3)\n",
    "base_order = len(base_graph)"
   ]
  },
  {
   "cell_type": "markdown",
   "metadata": {},
   "source": [
    "## Test Loop"
   ]
  },
  {
   "cell_type": "code",
   "execution_count": 8,
   "metadata": {
    "collapsed": false
   },
   "outputs": [
    {
     "name": "stdout",
     "output_type": "stream",
     "text": [
      "CPU times: user 24.7 s, sys: 10.8 s, total: 35.5 s\n",
      "Wall time: 3min 55s\n"
     ]
    }
   ],
   "source": [
    "%%time\n",
    "nqubits_list = [base_order**i for i in levels_list] # A list of how many qubits are included in each test circuit\n",
    "\n",
    "#Build the empty dataframe and initiate a counter\n",
    "column_list = ['NQubits', 'NGates', 'P+R Time (s)', 'Initial Cost', 'Final Cost']\n",
    "full_df = pd.DataFrame([], columns= column_list)\n",
    "iterate_counter = 0\n",
    "\n",
    "for nqubits in nqubits_list: # Loop over qubit sizes\n",
    "    hierarchy = build_weighted_hierarchical(base_graph, ceil(log(nqubits,base_order)), lambda x: 1)\n",
    "    for ngates in ngate_list: # Loop over number of gates\n",
    "        for trial in range(ntrials): # Loop over every trial\n",
    "            c = get_random_comp_graph(nqubits, ngates) # Get a random computational graph\n",
    "            \n",
    "            init_cost = length_cost(c, hierarchy, {j:i for i,j in enumerate(hierarchy.nodes())}) # Calculate \"naive\" cost\n",
    "            \n",
    "            start = time.time() # Start timing \n",
    "            pr_split_list = pr_split_nodes(c, c.nodes(), base_order) # Run partition-and-rotate\n",
    "            pr_dict = convert_split_list_to_dict(pr_split_list) # Conver to a mapping\n",
    "            end = time.time()\n",
    "            \n",
    "            pr_cost = length_cost(c, hierarchy, pr_dict) # Get cost under new mapping\n",
    "            pr_time = end - start # Calculate how long that took\n",
    "            \n",
    "            trial_df = pd.DataFrame([[nqubits, ngates, pr_time, init_cost, \n",
    "                                      pr_cost]],\n",
    "                               columns=column_list, \n",
    "                                    index = [iterate_counter]) # Create a dataframe for this trial\n",
    "            iterate_counter += 1 # Iterate the counter\n",
    "            full_df = full_df.append(trial_df) # Add this trial to the running data frame\n",
    "\n",
    "            \n",
    "# All trials are done -- some post-processing\n",
    "full_df['Initial Cost'] = full_df['Initial Cost'].astype(int) # Case some stuff to floats\n",
    "full_df['Final Cost'] = full_df['Final Cost'].astype(int)\n",
    "full_df['Ratio'] = full_df['Final Cost']/full_df['Initial Cost'] # Compute the ratio that describes the improvement"
   ]
  },
  {
   "cell_type": "markdown",
   "metadata": {},
   "source": [
    "At this point, the DataFrame $\\mathrm{full\\_df}$ contains the individual statistics for every single separate \"experiment.\" This isn't that useful, so we use $\\mathrm{pandas.groupby().mean()}$ and $\\mathrm{pandas.groupby().std()}$ to find the mean and standard deviation of the trials, grouped by the number of qubits and the number of gates. The standard deviations in $\\mathrm{std_df}$ are used for plotting later."
   ]
  },
  {
   "cell_type": "code",
   "execution_count": 9,
   "metadata": {
    "collapsed": false
   },
   "outputs": [
    {
     "data": {
      "text/html": [
       "<div>\n",
       "<style>\n",
       "    .dataframe thead tr:only-child th {\n",
       "        text-align: right;\n",
       "    }\n",
       "\n",
       "    .dataframe thead th {\n",
       "        text-align: left;\n",
       "    }\n",
       "\n",
       "    .dataframe tbody tr th {\n",
       "        vertical-align: top;\n",
       "    }\n",
       "</style>\n",
       "<table border=\"1\" class=\"dataframe\">\n",
       "  <thead>\n",
       "    <tr style=\"text-align: right;\">\n",
       "      <th></th>\n",
       "      <th></th>\n",
       "      <th>P+R Time (s)</th>\n",
       "      <th>Initial Cost</th>\n",
       "      <th>Final Cost</th>\n",
       "      <th>Ratio</th>\n",
       "    </tr>\n",
       "    <tr>\n",
       "      <th>NQubits</th>\n",
       "      <th>NGates</th>\n",
       "      <th></th>\n",
       "      <th></th>\n",
       "      <th></th>\n",
       "      <th></th>\n",
       "    </tr>\n",
       "  </thead>\n",
       "  <tbody>\n",
       "    <tr>\n",
       "      <th rowspan=\"5\" valign=\"top\">9</th>\n",
       "      <th>10</th>\n",
       "      <td>0.041760</td>\n",
       "      <td>20.2</td>\n",
       "      <td>11.7</td>\n",
       "      <td>0.589803</td>\n",
       "    </tr>\n",
       "    <tr>\n",
       "      <th>30</th>\n",
       "      <td>0.046863</td>\n",
       "      <td>58.7</td>\n",
       "      <td>47.0</td>\n",
       "      <td>0.805674</td>\n",
       "    </tr>\n",
       "    <tr>\n",
       "      <th>100</th>\n",
       "      <td>0.042970</td>\n",
       "      <td>200.9</td>\n",
       "      <td>179.3</td>\n",
       "      <td>0.893809</td>\n",
       "    </tr>\n",
       "    <tr>\n",
       "      <th>300</th>\n",
       "      <td>0.042661</td>\n",
       "      <td>598.9</td>\n",
       "      <td>558.9</td>\n",
       "      <td>0.933698</td>\n",
       "    </tr>\n",
       "    <tr>\n",
       "      <th>1000</th>\n",
       "      <td>0.053482</td>\n",
       "      <td>2002.5</td>\n",
       "      <td>1923.0</td>\n",
       "      <td>0.960492</td>\n",
       "    </tr>\n",
       "    <tr>\n",
       "      <th rowspan=\"5\" valign=\"top\">27</th>\n",
       "      <th>10</th>\n",
       "      <td>0.144069</td>\n",
       "      <td>32.4</td>\n",
       "      <td>10.5</td>\n",
       "      <td>0.327089</td>\n",
       "    </tr>\n",
       "    <tr>\n",
       "      <th>30</th>\n",
       "      <td>0.152198</td>\n",
       "      <td>94.7</td>\n",
       "      <td>42.4</td>\n",
       "      <td>0.451307</td>\n",
       "    </tr>\n",
       "    <tr>\n",
       "      <th>100</th>\n",
       "      <td>0.156303</td>\n",
       "      <td>314.8</td>\n",
       "      <td>223.6</td>\n",
       "      <td>0.713084</td>\n",
       "    </tr>\n",
       "    <tr>\n",
       "      <th>300</th>\n",
       "      <td>0.194938</td>\n",
       "      <td>944.6</td>\n",
       "      <td>794.5</td>\n",
       "      <td>0.841381</td>\n",
       "    </tr>\n",
       "    <tr>\n",
       "      <th>1000</th>\n",
       "      <td>0.211934</td>\n",
       "      <td>3147.3</td>\n",
       "      <td>2896.7</td>\n",
       "      <td>0.920494</td>\n",
       "    </tr>\n",
       "    <tr>\n",
       "      <th rowspan=\"5\" valign=\"top\">81</th>\n",
       "      <th>10</th>\n",
       "      <td>0.397732</td>\n",
       "      <td>44.7</td>\n",
       "      <td>10.0</td>\n",
       "      <td>0.225995</td>\n",
       "    </tr>\n",
       "    <tr>\n",
       "      <th>30</th>\n",
       "      <td>0.504913</td>\n",
       "      <td>129.8</td>\n",
       "      <td>31.4</td>\n",
       "      <td>0.243114</td>\n",
       "    </tr>\n",
       "    <tr>\n",
       "      <th>100</th>\n",
       "      <td>0.396180</td>\n",
       "      <td>440.0</td>\n",
       "      <td>191.2</td>\n",
       "      <td>0.435184</td>\n",
       "    </tr>\n",
       "    <tr>\n",
       "      <th>300</th>\n",
       "      <td>0.427712</td>\n",
       "      <td>1302.5</td>\n",
       "      <td>900.6</td>\n",
       "      <td>0.691825</td>\n",
       "    </tr>\n",
       "    <tr>\n",
       "      <th>1000</th>\n",
       "      <td>0.584825</td>\n",
       "      <td>4381.8</td>\n",
       "      <td>3692.5</td>\n",
       "      <td>0.842789</td>\n",
       "    </tr>\n",
       "    <tr>\n",
       "      <th rowspan=\"5\" valign=\"top\">243</th>\n",
       "      <th>10</th>\n",
       "      <td>0.724084</td>\n",
       "      <td>56.3</td>\n",
       "      <td>10.0</td>\n",
       "      <td>0.179693</td>\n",
       "    </tr>\n",
       "    <tr>\n",
       "      <th>30</th>\n",
       "      <td>0.885143</td>\n",
       "      <td>173.0</td>\n",
       "      <td>30.1</td>\n",
       "      <td>0.174434</td>\n",
       "    </tr>\n",
       "    <tr>\n",
       "      <th>100</th>\n",
       "      <td>1.155930</td>\n",
       "      <td>564.7</td>\n",
       "      <td>109.5</td>\n",
       "      <td>0.193978</td>\n",
       "    </tr>\n",
       "    <tr>\n",
       "      <th>300</th>\n",
       "      <td>1.473040</td>\n",
       "      <td>1714.5</td>\n",
       "      <td>641.2</td>\n",
       "      <td>0.374106</td>\n",
       "    </tr>\n",
       "    <tr>\n",
       "      <th>1000</th>\n",
       "      <td>1.482516</td>\n",
       "      <td>5722.2</td>\n",
       "      <td>3944.0</td>\n",
       "      <td>0.689297</td>\n",
       "    </tr>\n",
       "    <tr>\n",
       "      <th rowspan=\"5\" valign=\"top\">729</th>\n",
       "      <th>10</th>\n",
       "      <td>0.939128</td>\n",
       "      <td>64.5</td>\n",
       "      <td>10.0</td>\n",
       "      <td>0.156504</td>\n",
       "    </tr>\n",
       "    <tr>\n",
       "      <th>30</th>\n",
       "      <td>1.766166</td>\n",
       "      <td>200.8</td>\n",
       "      <td>30.0</td>\n",
       "      <td>0.149766</td>\n",
       "    </tr>\n",
       "    <tr>\n",
       "      <th>100</th>\n",
       "      <td>2.838099</td>\n",
       "      <td>696.0</td>\n",
       "      <td>100.5</td>\n",
       "      <td>0.144457</td>\n",
       "    </tr>\n",
       "    <tr>\n",
       "      <th>300</th>\n",
       "      <td>3.651360</td>\n",
       "      <td>2103.4</td>\n",
       "      <td>329.6</td>\n",
       "      <td>0.156711</td>\n",
       "    </tr>\n",
       "    <tr>\n",
       "      <th>1000</th>\n",
       "      <td>4.038528</td>\n",
       "      <td>7009.3</td>\n",
       "      <td>2707.4</td>\n",
       "      <td>0.386292</td>\n",
       "    </tr>\n",
       "  </tbody>\n",
       "</table>\n",
       "</div>"
      ],
      "text/plain": [
       "                P+R Time (s)  Initial Cost  Final Cost     Ratio\n",
       "NQubits NGates                                                  \n",
       "9       10          0.041760          20.2        11.7  0.589803\n",
       "        30          0.046863          58.7        47.0  0.805674\n",
       "        100         0.042970         200.9       179.3  0.893809\n",
       "        300         0.042661         598.9       558.9  0.933698\n",
       "        1000        0.053482        2002.5      1923.0  0.960492\n",
       "27      10          0.144069          32.4        10.5  0.327089\n",
       "        30          0.152198          94.7        42.4  0.451307\n",
       "        100         0.156303         314.8       223.6  0.713084\n",
       "        300         0.194938         944.6       794.5  0.841381\n",
       "        1000        0.211934        3147.3      2896.7  0.920494\n",
       "81      10          0.397732          44.7        10.0  0.225995\n",
       "        30          0.504913         129.8        31.4  0.243114\n",
       "        100         0.396180         440.0       191.2  0.435184\n",
       "        300         0.427712        1302.5       900.6  0.691825\n",
       "        1000        0.584825        4381.8      3692.5  0.842789\n",
       "243     10          0.724084          56.3        10.0  0.179693\n",
       "        30          0.885143         173.0        30.1  0.174434\n",
       "        100         1.155930         564.7       109.5  0.193978\n",
       "        300         1.473040        1714.5       641.2  0.374106\n",
       "        1000        1.482516        5722.2      3944.0  0.689297\n",
       "729     10          0.939128          64.5        10.0  0.156504\n",
       "        30          1.766166         200.8        30.0  0.149766\n",
       "        100         2.838099         696.0       100.5  0.144457\n",
       "        300         3.651360        2103.4       329.6  0.156711\n",
       "        1000        4.038528        7009.3      2707.4  0.386292"
      ]
     },
     "execution_count": 9,
     "metadata": {},
     "output_type": "execute_result"
    }
   ],
   "source": [
    "mean_df = full_df.groupby(['NQubits','NGates']).mean() # New dataframe with average values\n",
    "std_df = full_df.groupby(['NQubits','NGates']).std() # New dataframe with standard deviations\n",
    "mean_df # Just to print the averages"
   ]
  },
  {
   "cell_type": "markdown",
   "metadata": {},
   "source": [
    "## Visualization"
   ]
  },
  {
   "cell_type": "markdown",
   "metadata": {},
   "source": [
    "Now we're just going to make some plots that compare the different performances. The first shows the performance, in terms of the ratio of initial to final costs, and how that scales as gates are added."
   ]
  },
  {
   "cell_type": "code",
   "execution_count": 10,
   "metadata": {
    "collapsed": false
   },
   "outputs": [
    {
     "data": {
      "text/plain": [
       "<matplotlib.legend.Legend at 0x10dffbc50>"
      ]
     },
     "execution_count": 10,
     "metadata": {},
     "output_type": "execute_result"
    },
    {
     "data": {
      "image/png": "[encoded data removed]",
      "text/plain": [
       "<matplotlib.figure.Figure at 0x11873f358>"
      ]
     },
     "metadata": {},
     "output_type": "display_data"
    }
   ],
   "source": [
    "for i in nqubits_list:\n",
    "    mean_df.loc[i]['Ratio'].plot(yerr = std_df.loc[i]['Ratio'],\n",
    "        marker='o', ax=plt.gca(), legend = False, logx = True, logy = False, label = str(i) + ' qubits')\n",
    "plt.ylim(0,1)\n",
    "plt.xlabel('Number of gates')\n",
    "plt.ylabel('Fraction of original cost')\n",
    "plt.legend([\"{} qubits\".format(i) for i in nqubits_list])"
   ]
  },
  {
   "cell_type": "markdown",
   "metadata": {},
   "source": [
    "This next plot shows the runtime of the program for various numbers of gates as we increase the size of the circuit."
   ]
  },
  {
   "cell_type": "code",
   "execution_count": 16,
   "metadata": {
    "collapsed": false
   },
   "outputs": [
    {
     "data": {
      "text/plain": [
       "<matplotlib.legend.Legend at 0x11d8d0780>"
      ]
     },
     "execution_count": 16,
     "metadata": {},
     "output_type": "execute_result"
    },
    {
     "data": {
      "image/png": "[encoded data removed]",
      "text/plain": [
       "<matplotlib.figure.Figure at 0x11d89e860>"
      ]
     },
     "metadata": {},
     "output_type": "display_data"
    }
   ],
   "source": [
    "for i in ngate_list:\n",
    "    mean_df.xs(i,level='NGates')['P+R Time (s)'].plot(\n",
    "        yerr = std_df.xs(i,level='NGates')['P+R Time (s)'], marker = 'o',\n",
    "        label = str(i) + ' gates', logx = True, logy = True)\n",
    "plt.ylabel('Run time of program (s)')\n",
    "plt.xlabel('Number of qubits')\n",
    "plt.legend()"
   ]
  },
  {
   "cell_type": "markdown",
   "metadata": {},
   "source": [
    "Finally, program runtime where we look at lines of constant numbers of qubits as the number of gates scales."
   ]
  },
  {
   "cell_type": "code",
   "execution_count": 17,
   "metadata": {
    "collapsed": false
   },
   "outputs": [
    {
     "data": {
      "text/plain": [
       "<matplotlib.legend.Legend at 0x11d76f668>"
      ]
     },
     "execution_count": 17,
     "metadata": {},
     "output_type": "execute_result"
    },
    {
     "data": {
      "image/png": "[encoded data removed]",
      "text/plain": [
       "<matplotlib.figure.Figure at 0x11ceb1e48>"
      ]
     },
     "metadata": {},
     "output_type": "display_data"
    }
   ],
   "source": [
    "for i in nqubits_list:\n",
    "    mean_df.xs(i,level='NQubits')['P+R Time (s)'].plot(\n",
    "        yerr = std_df.xs(i,level='NQubits')['P+R Time (s)'], marker = 'o',\n",
    "        label = str(i) + ' gates', logx = True, logy = True)\n",
    "plt.ylabel('Run time of program (s)')\n",
    "plt.xlabel('Number of gates')\n",
    "plt.legend(loc = 2)"
   ]
  },
  {
   "cell_type": "code",
   "execution_count": null,
   "metadata": {
    "collapsed": true
   },
   "outputs": [],
   "source": []
  }
 ],
 "metadata": {
  "kernelspec": {
   "display_name": "Python 3",
   "language": "python",
   "name": "python3"
  },
  "language_info": {
   "codemirror_mode": {
    "name": "ipython",
    "version": 3
   },
   "file_extension": ".py",
   "mimetype": "text/x-python",
   "name": "python",
   "nbconvert_exporter": "python",
   "pygments_lexer": "ipython3",
   "version": "3.6.4"
  }
 },
 "nbformat": 4,
 "nbformat_minor": 2
}
